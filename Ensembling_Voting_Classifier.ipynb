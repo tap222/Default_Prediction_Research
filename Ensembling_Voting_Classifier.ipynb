{
 "cells": [
  {
   "cell_type": "code",
   "execution_count": 1,
   "metadata": {
    "collapsed": true
   },
   "outputs": [],
   "source": [
    "import pandas as pd\n",
    "import numpy as np\n",
    "import matplotlib.pyplot as plt\n",
    "import seaborn as sns\n",
    "%matplotlib inline\n",
    "\n",
    "from collections import Counter\n",
    "\n",
    "from sklearn.ensemble import RandomForestClassifier, AdaBoostClassifier, GradientBoostingClassifier, ExtraTreesClassifier, VotingClassifier\n",
    "from sklearn.discriminant_analysis import LinearDiscriminantAnalysis\n",
    "from sklearn.linear_model import LogisticRegression\n",
    "from sklearn.neighbors import KNeighborsClassifier\n",
    "from sklearn.tree import DecisionTreeClassifier\n",
    "from sklearn.neural_network import MLPClassifier\n",
    "from sklearn.svm import SVC\n",
    "from sklearn.model_selection import GridSearchCV, cross_val_score, StratifiedKFold, learning_curve\n",
    "\n",
    "sns.set(style='white', context='notebook', palette='deep')"
   ]
  },
  {
   "cell_type": "code",
   "execution_count": 2,
   "metadata": {},
   "outputs": [
    {
     "data": {
      "text/plain": [
       "['.ipynb_checkpoints',\n",
       " 'data.csv',\n",
       " 'Ensembling_Voting_Classifier.ipynb',\n",
       " 'Keras_implementation.ipynb']"
      ]
     },
     "execution_count": 2,
     "metadata": {},
     "output_type": "execute_result"
    }
   ],
   "source": [
    "import os\n",
    "os.chdir('C:\\\\Users\\\\10335\\\\Downloads\\\\Default_Prediction_Research-master')\n",
    "os.listdir(\".\")"
   ]
  },
  {
   "cell_type": "markdown",
   "metadata": {},
   "source": [
    "# Loading of data"
   ]
  },
  {
   "cell_type": "code",
   "execution_count": 3,
   "metadata": {
    "collapsed": true
   },
   "outputs": [],
   "source": [
    "df = pd.read_csv('data.csv')"
   ]
  },
  {
   "cell_type": "code",
   "execution_count": 4,
   "metadata": {},
   "outputs": [
    {
     "data": {
      "text/html": [
       "<div>\n",
       "<style>\n",
       "    .dataframe thead tr:only-child th {\n",
       "        text-align: right;\n",
       "    }\n",
       "\n",
       "    .dataframe thead th {\n",
       "        text-align: left;\n",
       "    }\n",
       "\n",
       "    .dataframe tbody tr th {\n",
       "        vertical-align: top;\n",
       "    }\n",
       "</style>\n",
       "<table border=\"1\" class=\"dataframe\">\n",
       "  <thead>\n",
       "    <tr style=\"text-align: right;\">\n",
       "      <th></th>\n",
       "      <th>Company.Name</th>\n",
       "      <th>PBDITAM</th>\n",
       "      <th>PATMARG</th>\n",
       "      <th>CASHPRFM</th>\n",
       "      <th>NPM</th>\n",
       "      <th>ROE</th>\n",
       "      <th>ROCE</th>\n",
       "      <th>RONW</th>\n",
       "      <th>TNW</th>\n",
       "      <th>CR</th>\n",
       "      <th>...</th>\n",
       "      <th>CL/NW</th>\n",
       "      <th>SALES</th>\n",
       "      <th>Size</th>\n",
       "      <th>MKTCAP</th>\n",
       "      <th>LTD</th>\n",
       "      <th>DEBTORDAYS</th>\n",
       "      <th>CREDITORDAYS</th>\n",
       "      <th>NWCCYCLE</th>\n",
       "      <th>YEAR</th>\n",
       "      <th>Target</th>\n",
       "    </tr>\n",
       "  </thead>\n",
       "  <tbody>\n",
       "    <tr>\n",
       "      <th>0</th>\n",
       "      <td>Adani Enterprises Ltd.</td>\n",
       "      <td>6.28</td>\n",
       "      <td>3.83</td>\n",
       "      <td>3.84</td>\n",
       "      <td>2.42</td>\n",
       "      <td>27.87</td>\n",
       "      <td>7.96</td>\n",
       "      <td>17.34</td>\n",
       "      <td>4769.1</td>\n",
       "      <td>1.41</td>\n",
       "      <td>...</td>\n",
       "      <td>166.22</td>\n",
       "      <td>30062.4</td>\n",
       "      <td>20379.8</td>\n",
       "      <td>4798.62</td>\n",
       "      <td>15744.9</td>\n",
       "      <td>107.99</td>\n",
       "      <td>71.89</td>\n",
       "      <td>115.46</td>\n",
       "      <td>1993.0</td>\n",
       "      <td>0</td>\n",
       "    </tr>\n",
       "    <tr>\n",
       "      <th>1</th>\n",
       "      <td>Adani Enterprises Ltd.</td>\n",
       "      <td>5.90</td>\n",
       "      <td>1.14</td>\n",
       "      <td>2.29</td>\n",
       "      <td>1.17</td>\n",
       "      <td>6.72</td>\n",
       "      <td>3.23</td>\n",
       "      <td>6.87</td>\n",
       "      <td>4961.1</td>\n",
       "      <td>1.27</td>\n",
       "      <td>...</td>\n",
       "      <td>166.93</td>\n",
       "      <td>28124.4</td>\n",
       "      <td>22697.2</td>\n",
       "      <td>3568.92</td>\n",
       "      <td>13932.8</td>\n",
       "      <td>128.83</td>\n",
       "      <td>87.05</td>\n",
       "      <td>100.23</td>\n",
       "      <td>1993.0</td>\n",
       "      <td>0</td>\n",
       "    </tr>\n",
       "    <tr>\n",
       "      <th>2</th>\n",
       "      <td>Adani Enterprises Ltd.</td>\n",
       "      <td>6.92</td>\n",
       "      <td>1.86</td>\n",
       "      <td>3.13</td>\n",
       "      <td>1.84</td>\n",
       "      <td>10.31</td>\n",
       "      <td>5.38</td>\n",
       "      <td>10.22</td>\n",
       "      <td>5406.8</td>\n",
       "      <td>1.44</td>\n",
       "      <td>...</td>\n",
       "      <td>123.93</td>\n",
       "      <td>27617.3</td>\n",
       "      <td>22953.2</td>\n",
       "      <td>2710.18</td>\n",
       "      <td>14608.1</td>\n",
       "      <td>131.37</td>\n",
       "      <td>80.62</td>\n",
       "      <td>64.66</td>\n",
       "      <td>1993.0</td>\n",
       "      <td>0</td>\n",
       "    </tr>\n",
       "    <tr>\n",
       "      <th>3</th>\n",
       "      <td>Adani Enterprises Ltd.</td>\n",
       "      <td>3.32</td>\n",
       "      <td>1.72</td>\n",
       "      <td>1.74</td>\n",
       "      <td>1.65</td>\n",
       "      <td>21.52</td>\n",
       "      <td>12.18</td>\n",
       "      <td>20.58</td>\n",
       "      <td>6128.0</td>\n",
       "      <td>1.56</td>\n",
       "      <td>...</td>\n",
       "      <td>147.38</td>\n",
       "      <td>70686.9</td>\n",
       "      <td>30111.2</td>\n",
       "      <td>8859.20</td>\n",
       "      <td>41529.5</td>\n",
       "      <td>55.57</td>\n",
       "      <td>36.29</td>\n",
       "      <td>30.67</td>\n",
       "      <td>1993.0</td>\n",
       "      <td>0</td>\n",
       "    </tr>\n",
       "    <tr>\n",
       "      <th>4</th>\n",
       "      <td>Adani Enterprises Ltd.</td>\n",
       "      <td>2.57</td>\n",
       "      <td>0.79</td>\n",
       "      <td>0.81</td>\n",
       "      <td>0.73</td>\n",
       "      <td>16.83</td>\n",
       "      <td>8.02</td>\n",
       "      <td>15.51</td>\n",
       "      <td>6744.3</td>\n",
       "      <td>1.29</td>\n",
       "      <td>...</td>\n",
       "      <td>175.90</td>\n",
       "      <td>135135.3</td>\n",
       "      <td>50923.8</td>\n",
       "      <td>13481.63</td>\n",
       "      <td>46214.6</td>\n",
       "      <td>44.42</td>\n",
       "      <td>35.88</td>\n",
       "      <td>16.94</td>\n",
       "      <td>1993.0</td>\n",
       "      <td>0</td>\n",
       "    </tr>\n",
       "  </tbody>\n",
       "</table>\n",
       "<p>5 rows × 25 columns</p>\n",
       "</div>"
      ],
      "text/plain": [
       "             Company.Name  PBDITAM  PATMARG  CASHPRFM   NPM    ROE   ROCE  \\\n",
       "0  Adani Enterprises Ltd.     6.28     3.83      3.84  2.42  27.87   7.96   \n",
       "1  Adani Enterprises Ltd.     5.90     1.14      2.29  1.17   6.72   3.23   \n",
       "2  Adani Enterprises Ltd.     6.92     1.86      3.13  1.84  10.31   5.38   \n",
       "3  Adani Enterprises Ltd.     3.32     1.72      1.74  1.65  21.52  12.18   \n",
       "4  Adani Enterprises Ltd.     2.57     0.79      0.81  0.73  16.83   8.02   \n",
       "\n",
       "    RONW     TNW    CR   ...     CL/NW     SALES     Size    MKTCAP      LTD  \\\n",
       "0  17.34  4769.1  1.41   ...    166.22   30062.4  20379.8   4798.62  15744.9   \n",
       "1   6.87  4961.1  1.27   ...    166.93   28124.4  22697.2   3568.92  13932.8   \n",
       "2  10.22  5406.8  1.44   ...    123.93   27617.3  22953.2   2710.18  14608.1   \n",
       "3  20.58  6128.0  1.56   ...    147.38   70686.9  30111.2   8859.20  41529.5   \n",
       "4  15.51  6744.3  1.29   ...    175.90  135135.3  50923.8  13481.63  46214.6   \n",
       "\n",
       "   DEBTORDAYS  CREDITORDAYS  NWCCYCLE    YEAR  Target  \n",
       "0      107.99         71.89    115.46  1993.0       0  \n",
       "1      128.83         87.05    100.23  1993.0       0  \n",
       "2      131.37         80.62     64.66  1993.0       0  \n",
       "3       55.57         36.29     30.67  1993.0       0  \n",
       "4       44.42         35.88     16.94  1993.0       0  \n",
       "\n",
       "[5 rows x 25 columns]"
      ]
     },
     "execution_count": 4,
     "metadata": {},
     "output_type": "execute_result"
    }
   ],
   "source": [
    "df.head(5)"
   ]
  },
  {
   "cell_type": "code",
   "execution_count": 5,
   "metadata": {},
   "outputs": [
    {
     "data": {
      "text/plain": [
       "(727, 25)"
      ]
     },
     "execution_count": 5,
     "metadata": {},
     "output_type": "execute_result"
    }
   ],
   "source": [
    "df.shape"
   ]
  },
  {
   "cell_type": "code",
   "execution_count": 6,
   "metadata": {},
   "outputs": [
    {
     "name": "stdout",
     "output_type": "stream",
     "text": [
      "<class 'pandas.core.frame.DataFrame'>\n",
      "RangeIndex: 727 entries, 0 to 726\n",
      "Data columns (total 25 columns):\n",
      "Company.Name    727 non-null object\n",
      "PBDITAM         727 non-null float64\n",
      "PATMARG         727 non-null float64\n",
      "CASHPRFM        727 non-null float64\n",
      "NPM             727 non-null float64\n",
      "ROE             727 non-null float64\n",
      "ROCE            727 non-null float64\n",
      "RONW            727 non-null float64\n",
      "TNW             727 non-null float64\n",
      "CR              727 non-null float64\n",
      "QR              727 non-null float64\n",
      "DE              727 non-null float64\n",
      "EXP%SALES       727 non-null float64\n",
      "FOREXEARNGS     727 non-null float64\n",
      "DR              727 non-null float64\n",
      "CL/NW           727 non-null float64\n",
      "SALES           727 non-null float64\n",
      "Size            727 non-null float64\n",
      "MKTCAP          727 non-null float64\n",
      "LTD             727 non-null float64\n",
      "DEBTORDAYS      727 non-null float64\n",
      "CREDITORDAYS    727 non-null float64\n",
      "NWCCYCLE        727 non-null float64\n",
      "YEAR            727 non-null float64\n",
      "Target          727 non-null int64\n",
      "dtypes: float64(23), int64(1), object(1)\n",
      "memory usage: 142.1+ KB\n"
     ]
    }
   ],
   "source": [
    "df.info()"
   ]
  },
  {
   "cell_type": "code",
   "execution_count": 7,
   "metadata": {
    "collapsed": true
   },
   "outputs": [],
   "source": [
    "del df['Company.Name']"
   ]
  },
  {
   "cell_type": "markdown",
   "metadata": {},
   "source": [
    "# Outlier Detection"
   ]
  },
  {
   "cell_type": "code",
   "execution_count": 8,
   "metadata": {
    "collapsed": true
   },
   "outputs": [],
   "source": [
    "# Outlier detection \n",
    "\n",
    "def detect_outliers(df,n,features):\n",
    "    \"\"\"\n",
    "    Takes a dataframe df of features and returns a list of the indices\n",
    "    corresponding to the observations containing more than n outliers according\n",
    "    to the Tukey method.\n",
    "    \"\"\"\n",
    "    outlier_indices = []\n",
    "    \n",
    "    # iterate over features(columns)\n",
    "    for col in features:\n",
    "        # 1st quartile (25%)\n",
    "        Q1 = np.percentile(df[col], 25)\n",
    "        # 3rd quartile (75%)\n",
    "        Q3 = np.percentile(df[col],75)\n",
    "        # Interquartile range (IQR)\n",
    "        IQR = Q3 - Q1\n",
    "        \n",
    "        # outlier step\n",
    "        outlier_step = 1.5 * IQR\n",
    "        \n",
    "        # Determine a list of indices of outliers for feature col\n",
    "        outlier_list_col = df[(df[col] < Q1 - outlier_step) | (df[col] > Q3 + outlier_step )].index\n",
    "        \n",
    "        # append the found outlier indices for col to the list of outlier indices \n",
    "        outlier_indices.extend(outlier_list_col)\n",
    "        \n",
    "    # select observations containing more than 2 outliers\n",
    "    outlier_indices = Counter(outlier_indices)        \n",
    "    multiple_outliers = list( k for k, v in outlier_indices.items() if v > n )\n",
    "    \n",
    "    return multiple_outliers   "
   ]
  },
  {
   "cell_type": "code",
   "execution_count": 9,
   "metadata": {},
   "outputs": [
    {
     "data": {
      "text/plain": [
       "Index(['PROMSHR', 'PROMPLEDG', 'FORPROM', 'Market.Capitalisation', 'EPS',\n",
       "       'P.E', 'P.B', 'BVS', 'Beta', 'TA', 'Alpha', 'PBDITAINC', 'PBTINC',\n",
       "       'PATINC', 'CASHPRFINC', 'PBDITAMARG', 'OPMARG', 'OPRFINCOS', 'PBPTEQ',\n",
       "       'ROE', 'RONW', 'CASHROE', 'PBPTCE', 'ROCE', 'PATCE', 'PBPTTA', 'ROTA',\n",
       "       'PATTA', 'QR', 'CR', 'DE', 'CASHCL', 'CASHCOS', 'TURNOVER', 'NAT',\n",
       "       'PVT', 'FORGN', 'OTHERS', 'Target'],\n",
       "      dtype='object')"
      ]
     },
     "execution_count": 9,
     "metadata": {},
     "output_type": "execute_result"
    }
   ],
   "source": [
    "df.columns"
   ]
  },
  {
   "cell_type": "code",
   "execution_count": 10,
   "metadata": {
    "collapsed": true
   },
   "outputs": [],
   "source": [
    "# detect outliers from Age, SibSp , Parch and Fare\n",
    "Outliers_to_drop = detect_outliers(df,2,['PROMSHR', 'PROMPLEDG', 'FORPROM', 'Market.Capitalisation', 'EPS',\n",
    "       'P.E', 'P.B', 'BVS', 'Beta', 'TA', 'Alpha', 'PBDITAINC', 'PBTINC',\n",
    "       'PATINC', 'CASHPRFINC', 'PBDITAMARG', 'OPMARG', 'OPRFINCOS', 'PBPTEQ',\n",
    "       'ROE', 'RONW', 'CASHROE', 'PBPTCE', 'ROCE', 'PATCE', 'PBPTTA', 'ROTA',\n",
    "       'PATTA', 'QR', 'CR', 'DE', 'CASHCL', 'CASHCOS', 'TURNOVER'])"
   ]
  },
  {
   "cell_type": "code",
   "execution_count": 14,
   "metadata": {},
   "outputs": [
    {
     "data": {
      "text/plain": [
       "(154, 39)"
      ]
     },
     "execution_count": 14,
     "metadata": {},
     "output_type": "execute_result"
    }
   ],
   "source": [
    "df.loc[Outliers_to_drop].shape"
   ]
  },
  {
   "cell_type": "code",
   "execution_count": 16,
   "metadata": {
    "collapsed": true
   },
   "outputs": [],
   "source": [
    "# Drop outliers\n",
    "#df = df.drop(Outliers_to_drop, axis = 0).reset_index(drop=True)"
   ]
  },
  {
   "cell_type": "code",
   "execution_count": 8,
   "metadata": {
    "collapsed": true
   },
   "outputs": [],
   "source": [
    "df['YEAR'] = df['YEAR'].astype('category')"
   ]
  },
  {
   "cell_type": "code",
   "execution_count": 11,
   "metadata": {},
   "outputs": [],
   "source": [
    "age_bins = [0,1960,1970,1980,1990,2000,2017]\n",
    "age_labels = ['1','2','3','4','5','6']\n",
    "df['YEAR'] = pd.cut(df['YEAR'], age_bins, labels = age_labels,right=True,include_lowest = True)"
   ]
  },
  {
   "cell_type": "code",
   "execution_count": 12,
   "metadata": {
    "collapsed": true
   },
   "outputs": [],
   "source": [
    "df['Age_1'] = df['YEAR'].map(lambda s:1 if s == '1' else 0)\n",
    "df['Age_2'] = df['YEAR'].map(lambda s:1 if s == '2' else 0)\n",
    "df['Age_3'] = df['YEAR'].map(lambda s:1 if s == '3' else 0)\n",
    "df['Age_4'] = df['YEAR'].map(lambda s:1 if s == '4' else 0)\n",
    "df['Age_5'] = df['YEAR'].map(lambda s:1 if s == '5' else 0)\n",
    "df['Age_6'] = df['YEAR'].map(lambda s:1 if s == '6' else 0)\n",
    "#del df['YEAR']\n",
    "df = df.drop(labels = ['YEAR'],axis = 1)"
   ]
  },
  {
   "cell_type": "code",
   "execution_count": 15,
   "metadata": {},
   "outputs": [
    {
     "data": {
      "text/plain": [
       "Index(['PBDITAM', 'PATMARG', 'CASHPRFM', 'NPM', 'ROE', 'ROCE', 'RONW', 'TNW',\n",
       "       'CR', 'QR', 'DE', 'EXP%SALES', 'FOREXEARNGS', 'DR', 'CL/NW', 'SALES',\n",
       "       'Size', 'MKTCAP', 'LTD', 'DEBTORDAYS', 'CREDITORDAYS', 'NWCCYCLE',\n",
       "       'Target', 'Age_1', 'Age_2', 'Age_3', 'Age_4', 'Age_5', 'Age_6'],\n",
       "      dtype='object')"
      ]
     },
     "execution_count": 15,
     "metadata": {},
     "output_type": "execute_result"
    }
   ],
   "source": [
    "df.columns"
   ]
  },
  {
   "cell_type": "markdown",
   "metadata": {},
   "source": [
    "### Preprocessing"
   ]
  },
  {
   "cell_type": "code",
   "execution_count": 17,
   "metadata": {
    "collapsed": true
   },
   "outputs": [],
   "source": [
    "pr_sc = ['PBDITAM', 'PATMARG', 'CASHPRFM', 'NPM', 'ROE', 'ROCE', 'RONW', 'TNW',\n",
    "       'CR', 'QR', 'DE', 'EXP%SALES', 'FOREXEARNGS', 'DR', 'CL/NW', 'SALES',\n",
    "       'Size', 'MKTCAP', 'LTD', 'DEBTORDAYS', 'CREDITORDAYS', 'NWCCYCLE']"
   ]
  },
  {
   "cell_type": "code",
   "execution_count": 18,
   "metadata": {
    "collapsed": true
   },
   "outputs": [],
   "source": [
    "from sklearn import preprocessing\n",
    "std_scale = preprocessing.StandardScaler().fit(df[pr_sc])\n",
    "df[pr_sc] = std_scale.transform(df[pr_sc])"
   ]
  },
  {
   "cell_type": "code",
   "execution_count": 19,
   "metadata": {},
   "outputs": [
    {
     "data": {
      "text/html": [
       "<div>\n",
       "<style>\n",
       "    .dataframe thead tr:only-child th {\n",
       "        text-align: right;\n",
       "    }\n",
       "\n",
       "    .dataframe thead th {\n",
       "        text-align: left;\n",
       "    }\n",
       "\n",
       "    .dataframe tbody tr th {\n",
       "        vertical-align: top;\n",
       "    }\n",
       "</style>\n",
       "<table border=\"1\" class=\"dataframe\">\n",
       "  <thead>\n",
       "    <tr style=\"text-align: right;\">\n",
       "      <th></th>\n",
       "      <th>PBDITAM</th>\n",
       "      <th>PATMARG</th>\n",
       "      <th>CASHPRFM</th>\n",
       "      <th>NPM</th>\n",
       "      <th>ROE</th>\n",
       "      <th>ROCE</th>\n",
       "      <th>RONW</th>\n",
       "      <th>TNW</th>\n",
       "      <th>CR</th>\n",
       "      <th>QR</th>\n",
       "      <th>...</th>\n",
       "      <th>DEBTORDAYS</th>\n",
       "      <th>CREDITORDAYS</th>\n",
       "      <th>NWCCYCLE</th>\n",
       "      <th>Target</th>\n",
       "      <th>Age_1</th>\n",
       "      <th>Age_2</th>\n",
       "      <th>Age_3</th>\n",
       "      <th>Age_4</th>\n",
       "      <th>Age_5</th>\n",
       "      <th>Age_6</th>\n",
       "    </tr>\n",
       "  </thead>\n",
       "  <tbody>\n",
       "    <tr>\n",
       "      <th>0</th>\n",
       "      <td>-0.048585</td>\n",
       "      <td>0.038829</td>\n",
       "      <td>0.011679</td>\n",
       "      <td>0.032825</td>\n",
       "      <td>0.304731</td>\n",
       "      <td>-0.206990</td>\n",
       "      <td>-0.012492</td>\n",
       "      <td>-0.452417</td>\n",
       "      <td>-0.061110</td>\n",
       "      <td>0.110255</td>\n",
       "      <td>...</td>\n",
       "      <td>0.055505</td>\n",
       "      <td>-0.190188</td>\n",
       "      <td>0.027540</td>\n",
       "      <td>0</td>\n",
       "      <td>0</td>\n",
       "      <td>0</td>\n",
       "      <td>0</td>\n",
       "      <td>0</td>\n",
       "      <td>1</td>\n",
       "      <td>0</td>\n",
       "    </tr>\n",
       "    <tr>\n",
       "      <th>1</th>\n",
       "      <td>-0.051042</td>\n",
       "      <td>0.031549</td>\n",
       "      <td>0.005198</td>\n",
       "      <td>0.028310</td>\n",
       "      <td>-0.125756</td>\n",
       "      <td>-0.207430</td>\n",
       "      <td>-0.114486</td>\n",
       "      <td>-0.447854</td>\n",
       "      <td>-0.104835</td>\n",
       "      <td>0.042998</td>\n",
       "      <td>...</td>\n",
       "      <td>0.093540</td>\n",
       "      <td>-0.189161</td>\n",
       "      <td>0.025805</td>\n",
       "      <td>0</td>\n",
       "      <td>0</td>\n",
       "      <td>0</td>\n",
       "      <td>0</td>\n",
       "      <td>0</td>\n",
       "      <td>1</td>\n",
       "      <td>0</td>\n",
       "    </tr>\n",
       "    <tr>\n",
       "      <th>2</th>\n",
       "      <td>-0.044447</td>\n",
       "      <td>0.033497</td>\n",
       "      <td>0.008711</td>\n",
       "      <td>0.030730</td>\n",
       "      <td>-0.052685</td>\n",
       "      <td>-0.207230</td>\n",
       "      <td>-0.081852</td>\n",
       "      <td>-0.437260</td>\n",
       "      <td>-0.051741</td>\n",
       "      <td>0.151644</td>\n",
       "      <td>...</td>\n",
       "      <td>0.098176</td>\n",
       "      <td>-0.189597</td>\n",
       "      <td>0.021751</td>\n",
       "      <td>0</td>\n",
       "      <td>0</td>\n",
       "      <td>0</td>\n",
       "      <td>0</td>\n",
       "      <td>0</td>\n",
       "      <td>1</td>\n",
       "      <td>0</td>\n",
       "    </tr>\n",
       "    <tr>\n",
       "      <th>3</th>\n",
       "      <td>-0.067723</td>\n",
       "      <td>0.033118</td>\n",
       "      <td>0.002899</td>\n",
       "      <td>0.030044</td>\n",
       "      <td>0.175483</td>\n",
       "      <td>-0.206597</td>\n",
       "      <td>0.019070</td>\n",
       "      <td>-0.420117</td>\n",
       "      <td>-0.014263</td>\n",
       "      <td>0.146471</td>\n",
       "      <td>...</td>\n",
       "      <td>-0.040169</td>\n",
       "      <td>-0.192599</td>\n",
       "      <td>0.017878</td>\n",
       "      <td>0</td>\n",
       "      <td>0</td>\n",
       "      <td>0</td>\n",
       "      <td>0</td>\n",
       "      <td>0</td>\n",
       "      <td>1</td>\n",
       "      <td>0</td>\n",
       "    </tr>\n",
       "    <tr>\n",
       "      <th>4</th>\n",
       "      <td>-0.072572</td>\n",
       "      <td>0.030601</td>\n",
       "      <td>-0.000990</td>\n",
       "      <td>0.026721</td>\n",
       "      <td>0.080023</td>\n",
       "      <td>-0.206984</td>\n",
       "      <td>-0.030319</td>\n",
       "      <td>-0.405468</td>\n",
       "      <td>-0.098588</td>\n",
       "      <td>0.053345</td>\n",
       "      <td>...</td>\n",
       "      <td>-0.060519</td>\n",
       "      <td>-0.192627</td>\n",
       "      <td>0.016313</td>\n",
       "      <td>0</td>\n",
       "      <td>0</td>\n",
       "      <td>0</td>\n",
       "      <td>0</td>\n",
       "      <td>0</td>\n",
       "      <td>1</td>\n",
       "      <td>0</td>\n",
       "    </tr>\n",
       "  </tbody>\n",
       "</table>\n",
       "<p>5 rows × 29 columns</p>\n",
       "</div>"
      ],
      "text/plain": [
       "    PBDITAM   PATMARG  CASHPRFM       NPM       ROE      ROCE      RONW  \\\n",
       "0 -0.048585  0.038829  0.011679  0.032825  0.304731 -0.206990 -0.012492   \n",
       "1 -0.051042  0.031549  0.005198  0.028310 -0.125756 -0.207430 -0.114486   \n",
       "2 -0.044447  0.033497  0.008711  0.030730 -0.052685 -0.207230 -0.081852   \n",
       "3 -0.067723  0.033118  0.002899  0.030044  0.175483 -0.206597  0.019070   \n",
       "4 -0.072572  0.030601 -0.000990  0.026721  0.080023 -0.206984 -0.030319   \n",
       "\n",
       "        TNW        CR        QR  ...    DEBTORDAYS  CREDITORDAYS  NWCCYCLE  \\\n",
       "0 -0.452417 -0.061110  0.110255  ...      0.055505     -0.190188  0.027540   \n",
       "1 -0.447854 -0.104835  0.042998  ...      0.093540     -0.189161  0.025805   \n",
       "2 -0.437260 -0.051741  0.151644  ...      0.098176     -0.189597  0.021751   \n",
       "3 -0.420117 -0.014263  0.146471  ...     -0.040169     -0.192599  0.017878   \n",
       "4 -0.405468 -0.098588  0.053345  ...     -0.060519     -0.192627  0.016313   \n",
       "\n",
       "   Target  Age_1  Age_2  Age_3  Age_4  Age_5  Age_6  \n",
       "0       0      0      0      0      0      1      0  \n",
       "1       0      0      0      0      0      1      0  \n",
       "2       0      0      0      0      0      1      0  \n",
       "3       0      0      0      0      0      1      0  \n",
       "4       0      0      0      0      0      1      0  \n",
       "\n",
       "[5 rows x 29 columns]"
      ]
     },
     "execution_count": 19,
     "metadata": {},
     "output_type": "execute_result"
    }
   ],
   "source": [
    "df.head(5)"
   ]
  },
  {
   "cell_type": "code",
   "execution_count": null,
   "metadata": {
    "collapsed": true
   },
   "outputs": [],
   "source": [
    "df.to_csv(\"after_preprocessing.csv\",index=False)"
   ]
  },
  {
   "cell_type": "markdown",
   "metadata": {},
   "source": [
    "### Modelling"
   ]
  },
  {
   "cell_type": "code",
   "execution_count": 20,
   "metadata": {
    "collapsed": true
   },
   "outputs": [],
   "source": [
    "train = df"
   ]
  },
  {
   "cell_type": "code",
   "execution_count": 21,
   "metadata": {
    "collapsed": true
   },
   "outputs": [],
   "source": [
    "X_train = train.drop(labels = [\"Target\"],axis = 1)\n",
    "Y_train = train[\"Target\"]"
   ]
  },
  {
   "cell_type": "code",
   "execution_count": 22,
   "metadata": {
    "collapsed": true
   },
   "outputs": [],
   "source": [
    "# Cross validate model with Kfold stratified cross val\n",
    "kfold = StratifiedKFold(n_splits=10)"
   ]
  },
  {
   "cell_type": "code",
   "execution_count": 23,
   "metadata": {},
   "outputs": [
    {
     "data": {
      "image/png": "[encoded data removed]",
      "text/plain": [
       "<matplotlib.figure.Figure at 0xa7dbe80>"
      ]
     },
     "metadata": {},
     "output_type": "display_data"
    }
   ],
   "source": [
    "# Modeling step Test differents algorithms \n",
    "random_state = 2\n",
    "classifiers = []\n",
    "classifiers.append(SVC(random_state=random_state))\n",
    "classifiers.append(DecisionTreeClassifier(random_state=random_state))\n",
    "classifiers.append(AdaBoostClassifier(DecisionTreeClassifier(random_state=random_state),random_state=random_state,learning_rate=0.1))\n",
    "classifiers.append(RandomForestClassifier(random_state=random_state))\n",
    "classifiers.append(ExtraTreesClassifier(random_state=random_state))\n",
    "classifiers.append(GradientBoostingClassifier(random_state=random_state))\n",
    "classifiers.append(MLPClassifier(random_state=random_state))\n",
    "classifiers.append(KNeighborsClassifier())\n",
    "classifiers.append(LogisticRegression(random_state = random_state))\n",
    "classifiers.append(LinearDiscriminantAnalysis())\n",
    "\n",
    "cv_results = []\n",
    "for classifier in classifiers :\n",
    "    cv_results.append(cross_val_score(classifier, X_train, y = Y_train, scoring = \"accuracy\", cv = kfold, n_jobs=4))\n",
    "\n",
    "cv_means = []\n",
    "cv_std = []\n",
    "for cv_result in cv_results:\n",
    "    cv_means.append(cv_result.mean())\n",
    "    cv_std.append(cv_result.std())\n",
    "\n",
    "cv_res = pd.DataFrame({\"CrossValMeans\":cv_means,\"CrossValerrors\": cv_std,\"Algorithm\":[\"SVC\",\"DecisionTree\",\"AdaBoost\",\n",
    "\"RandomForest\",\"ExtraTrees\",\"GradientBoosting\",\"MultipleLayerPerceptron\",\"KNeighboors\",\"LogisticRegression\",\"LinearDiscriminantAnalysis\"]})\n",
    "\n",
    "g = sns.barplot(\"CrossValMeans\",\"Algorithm\",data = cv_res, palette=\"Set3\",orient = \"h\",**{'xerr':cv_std})\n",
    "g.set_xlabel(\"Mean Accuracy\")\n",
    "g = g.set_title(\"Cross validation scores\")"
   ]
  },
  {
   "cell_type": "code",
   "execution_count": 24,
   "metadata": {},
   "outputs": [
    {
     "name": "stdout",
     "output_type": "stream",
     "text": [
      "Fitting 10 folds for each of 112 candidates, totalling 1120 fits\n"
     ]
    },
    {
     "name": "stderr",
     "output_type": "stream",
     "text": [
      "[Parallel(n_jobs=4)]: Done  48 tasks      | elapsed:    7.4s\n",
      "[Parallel(n_jobs=4)]: Done 1008 tasks      | elapsed:   17.0s\n",
      "[Parallel(n_jobs=4)]: Done 1120 out of 1120 | elapsed:   17.6s finished\n"
     ]
    }
   ],
   "source": [
    "### META MODELING  WITH ADABOOST, RF, EXTRATREES and GRADIENTBOOSTING\n",
    "\n",
    "# Adaboost\n",
    "DTC = DecisionTreeClassifier()\n",
    "\n",
    "adaDTC = AdaBoostClassifier(DTC, random_state=7)\n",
    "\n",
    "ada_param_grid = {\"base_estimator__criterion\" : [\"gini\", \"entropy\"],\n",
    "              \"base_estimator__splitter\" :   [\"best\", \"random\"],\n",
    "              \"algorithm\" : [\"SAMME\",\"SAMME.R\"],\n",
    "              \"n_estimators\" :[1,2],\n",
    "              \"learning_rate\":  [0.0001, 0.001, 0.01, 0.1, 0.2, 0.3,1.5]}\n",
    "\n",
    "gsadaDTC = GridSearchCV(adaDTC,param_grid = ada_param_grid, cv=kfold, scoring=\"accuracy\", n_jobs= 4, verbose = 1)\n",
    "\n",
    "gsadaDTC.fit(X_train,Y_train)\n",
    "\n",
    "ada_best = gsadaDTC.best_estimator_"
   ]
  },
  {
   "cell_type": "code",
   "execution_count": 25,
   "metadata": {},
   "outputs": [
    {
     "data": {
      "text/plain": [
       "0.85144429160935353"
      ]
     },
     "execution_count": 25,
     "metadata": {},
     "output_type": "execute_result"
    }
   ],
   "source": [
    "gsadaDTC.best_score_"
   ]
  },
  {
   "cell_type": "code",
   "execution_count": 26,
   "metadata": {},
   "outputs": [
    {
     "name": "stdout",
     "output_type": "stream",
     "text": [
      "Fitting 10 folds for each of 54 candidates, totalling 540 fits\n"
     ]
    },
    {
     "name": "stderr",
     "output_type": "stream",
     "text": [
      "[Parallel(n_jobs=4)]: Done  42 tasks      | elapsed:   21.3s\n",
      "[Parallel(n_jobs=4)]: Done 192 tasks      | elapsed:  1.2min\n",
      "[Parallel(n_jobs=4)]: Done 442 tasks      | elapsed:  2.7min\n",
      "[Parallel(n_jobs=4)]: Done 540 out of 540 | elapsed:  3.4min finished\n"
     ]
    },
    {
     "data": {
      "text/plain": [
       "0.86657496561210456"
      ]
     },
     "execution_count": 26,
     "metadata": {},
     "output_type": "execute_result"
    }
   ],
   "source": [
    "#ExtraTrees \n",
    "ExtC = ExtraTreesClassifier()\n",
    "\n",
    "\n",
    "## Search grid for optimal parameters\n",
    "ex_param_grid = {\"max_depth\": [None],\n",
    "              \"max_features\": [1, 3, 10],\n",
    "              \"min_samples_split\": [2, 3, 10],\n",
    "              \"min_samples_leaf\": [1, 3, 10],\n",
    "              \"bootstrap\": [False],\n",
    "              \"n_estimators\" :[100,300],\n",
    "              \"criterion\": [\"gini\"]}\n",
    "\n",
    "\n",
    "gsExtC = GridSearchCV(ExtC,param_grid = ex_param_grid, cv=kfold, scoring=\"accuracy\", n_jobs= 4, verbose = 1)\n",
    "\n",
    "gsExtC.fit(X_train,Y_train)\n",
    "\n",
    "ExtC_best = gsExtC.best_estimator_\n",
    "\n",
    "# Best score\n",
    "gsExtC.best_score_"
   ]
  },
  {
   "cell_type": "code",
   "execution_count": 30,
   "metadata": {},
   "outputs": [
    {
     "name": "stdout",
     "output_type": "stream",
     "text": [
      "Fitting 10 folds for each of 54 candidates, totalling 540 fits\n"
     ]
    },
    {
     "name": "stderr",
     "output_type": "stream",
     "text": [
      "[Parallel(n_jobs=4)]: Done  42 tasks      | elapsed:   28.2s\n",
      "[Parallel(n_jobs=4)]: Done 192 tasks      | elapsed:  1.5min\n",
      "[Parallel(n_jobs=4)]: Done 442 tasks      | elapsed:  4.1min\n",
      "[Parallel(n_jobs=4)]: Done 540 out of 540 | elapsed:  5.5min finished\n"
     ]
    },
    {
     "data": {
      "text/plain": [
       "0.92297111416781297"
      ]
     },
     "execution_count": 30,
     "metadata": {},
     "output_type": "execute_result"
    }
   ],
   "source": [
    "# RFC Parameters tunning \n",
    "RFC = RandomForestClassifier()\n",
    "\n",
    "\n",
    "## Search grid for optimal parameters\n",
    "rf_param_grid = {\"max_depth\": [None],\n",
    "              \"max_features\": [1, 3, 10],\n",
    "              \"min_samples_split\": [2, 3, 10],\n",
    "              \"min_samples_leaf\": [1, 3, 10],\n",
    "              \"bootstrap\": [False],\n",
    "              \"n_estimators\" :[100,300],\n",
    "              \"criterion\": [\"gini\"]}\n",
    "\n",
    "\n",
    "gsRFC = GridSearchCV(RFC,param_grid = rf_param_grid, cv=kfold, scoring=\"accuracy\", n_jobs= 4, verbose = 1)\n",
    "\n",
    "gsRFC.fit(X_train,Y_train)\n",
    "\n",
    "RFC_best = gsRFC.best_estimator_\n",
    "\n",
    "# Best score\n",
    "gsRFC.best_score_"
   ]
  },
  {
   "cell_type": "code",
   "execution_count": 27,
   "metadata": {},
   "outputs": [
    {
     "name": "stdout",
     "output_type": "stream",
     "text": [
      "Fitting 10 folds for each of 72 candidates, totalling 720 fits\n"
     ]
    },
    {
     "name": "stderr",
     "output_type": "stream",
     "text": [
      "[Parallel(n_jobs=4)]: Done  42 tasks      | elapsed:   17.2s\n",
      "[Parallel(n_jobs=4)]: Done 192 tasks      | elapsed:   36.5s\n",
      "[Parallel(n_jobs=4)]: Done 442 tasks      | elapsed:  1.2min\n",
      "[Parallel(n_jobs=4)]: Done 720 out of 720 | elapsed:  1.7min finished\n"
     ]
    },
    {
     "data": {
      "text/plain": [
       "0.93535075653370015"
      ]
     },
     "execution_count": 27,
     "metadata": {},
     "output_type": "execute_result"
    }
   ],
   "source": [
    "# Gradient boosting tunning\n",
    "\n",
    "GBC = GradientBoostingClassifier()\n",
    "gb_param_grid = {'loss' : [\"deviance\"],\n",
    "              'n_estimators' : [100,200,300],\n",
    "              'learning_rate': [0.1, 0.05, 0.01],\n",
    "              'max_depth': [4, 8],\n",
    "              'min_samples_leaf': [100,150],\n",
    "              'max_features': [0.3, 0.1] \n",
    "              }\n",
    "\n",
    "gsGBC = GridSearchCV(GBC,param_grid = gb_param_grid, cv=kfold, scoring=\"accuracy\", n_jobs= 4, verbose = 1)\n",
    "\n",
    "gsGBC.fit(X_train,Y_train)\n",
    "\n",
    "GBC_best = gsGBC.best_estimator_\n",
    "\n",
    "# Best score\n",
    "gsGBC.best_score_"
   ]
  },
  {
   "cell_type": "code",
   "execution_count": 28,
   "metadata": {},
   "outputs": [
    {
     "name": "stdout",
     "output_type": "stream",
     "text": [
      "Fitting 10 folds for each of 28 candidates, totalling 280 fits\n"
     ]
    },
    {
     "name": "stderr",
     "output_type": "stream",
     "text": [
      "[Parallel(n_jobs=4)]: Done  42 tasks      | elapsed:   15.9s\n",
      "[Parallel(n_jobs=4)]: Done 192 tasks      | elapsed:   27.9s\n",
      "[Parallel(n_jobs=4)]: Done 280 out of 280 | elapsed:   34.8s finished\n"
     ]
    },
    {
     "data": {
      "text/plain": [
       "0.88720770288858319"
      ]
     },
     "execution_count": 28,
     "metadata": {},
     "output_type": "execute_result"
    }
   ],
   "source": [
    "### SVC classifier\n",
    "SVMC = SVC(probability=True)\n",
    "svc_param_grid = {'kernel': ['rbf'], \n",
    "                  'gamma': [ 0.001, 0.01, 0.1, 1],\n",
    "                  'C': [1, 10, 50, 100,200,300, 1000]}\n",
    "\n",
    "gsSVMC = GridSearchCV(SVMC,param_grid = svc_param_grid, cv=kfold, scoring=\"accuracy\", n_jobs= 4, verbose = 1)\n",
    "\n",
    "gsSVMC.fit(X_train,Y_train)\n",
    "\n",
    "SVMC_best = gsSVMC.best_estimator_\n",
    "\n",
    "# Best score\n",
    "gsSVMC.best_score_"
   ]
  },
  {
   "cell_type": "code",
   "execution_count": 35,
   "metadata": {},
   "outputs": [
    {
     "data": {
      "image/png": "[encoded data removed]",
      "text/plain": [
       "<matplotlib.figure.Figure at 0xc1899b0>"
      ]
     },
     "metadata": {},
     "output_type": "display_data"
    }
   ],
   "source": [
    "def plot_learning_curve(estimator, title, X, y, ylim=None, cv=None,\n",
    "                        n_jobs=-1, train_sizes=np.linspace(.1, 1.0, 5)):\n",
    "    \"\"\"Generate a simple plot of the test and training learning curve\"\"\"\n",
    "    plt.figure()\n",
    "    plt.title(title)\n",
    "    if ylim is not None:\n",
    "        plt.ylim(*ylim)\n",
    "    plt.xlabel(\"Training examples\")\n",
    "    plt.ylabel(\"Score\")\n",
    "    train_sizes, train_scores, test_scores = learning_curve(\n",
    "        estimator, X, y, cv=cv, n_jobs=n_jobs, train_sizes=train_sizes)\n",
    "    train_scores_mean = np.mean(train_scores, axis=1)\n",
    "    train_scores_std = np.std(train_scores, axis=1)\n",
    "    test_scores_mean = np.mean(test_scores, axis=1)\n",
    "    test_scores_std = np.std(test_scores, axis=1)\n",
    "    plt.grid()\n",
    "\n",
    "    plt.fill_between(train_sizes, train_scores_mean - train_scores_std,\n",
    "                     train_scores_mean + train_scores_std, alpha=0.1,\n",
    "                     color=\"r\")\n",
    "    plt.fill_between(train_sizes, test_scores_mean - test_scores_std,\n",
    "                     test_scores_mean + test_scores_std, alpha=0.1, color=\"g\")\n",
    "    plt.plot(train_sizes, train_scores_mean, 'o-', color=\"r\",\n",
    "             label=\"Training score\")\n",
    "    plt.plot(train_sizes, test_scores_mean, 'o-', color=\"g\",\n",
    "             label=\"Cross-validation score\")\n",
    "\n",
    "    plt.legend(loc=\"best\")\n",
    "    return plt\n",
    "\n",
    "g = plot_learning_curve(gsRFC.best_estimator_,\"RF mearning curves\",X_train,Y_train,cv=kfold)\n"
   ]
  },
  {
   "cell_type": "code",
   "execution_count": 36,
   "metadata": {},
   "outputs": [
    {
     "data": {
      "image/png": "[encoded data removed]",
      "text/plain": [
       "<matplotlib.figure.Figure at 0xc1b8c88>"
      ]
     },
     "metadata": {},
     "output_type": "display_data"
    }
   ],
   "source": [
    "g = plot_learning_curve(gsExtC.best_estimator_,\"ExtraTrees learning curves\",X_train,Y_train,cv=kfold)"
   ]
  },
  {
   "cell_type": "code",
   "execution_count": 37,
   "metadata": {},
   "outputs": [
    {
     "data": {
      "image/png": "[encoded data removed]",
      "text/plain": [
       "<matplotlib.figure.Figure at 0xc189f60>"
      ]
     },
     "metadata": {},
     "output_type": "display_data"
    }
   ],
   "source": [
    "\n",
    "g = plot_learning_curve(gsadaDTC.best_estimator_,\"AdaBoost learning curves\",X_train,Y_train,cv=kfold)\n"
   ]
  },
  {
   "cell_type": "code",
   "execution_count": 42,
   "metadata": {},
   "outputs": [],
   "source": [
    "#g = plot_learning_curve(gsGBC.best_estimator_,\"GradientBoosting learning curves\",X_train,Y_train,cv=kfold)\n",
    "#g = plot_learning_curve(gsSVMC.best_estimator_,\"SVC learning curves\",X_train,Y_train,cv=kfold)"
   ]
  },
  {
   "cell_type": "code",
   "execution_count": 43,
   "metadata": {},
   "outputs": [
    {
     "data": {
      "text/plain": [
       "array([0, 1], dtype=int64)"
      ]
     },
     "execution_count": 43,
     "metadata": {},
     "output_type": "execute_result"
    }
   ],
   "source": [
    "import numpy as np\n",
    "np.unique(Y_train)"
   ]
  },
  {
   "cell_type": "code",
   "execution_count": 44,
   "metadata": {},
   "outputs": [
    {
     "data": {
      "image/png": "[encoded data removed]",
      "text/plain": [
       "<matplotlib.figure.Figure at 0xc14d320>"
      ]
     },
     "metadata": {},
     "output_type": "display_data"
    }
   ],
   "source": [
    "nrows = ncols = 2\n",
    "fig, axes = plt.subplots(nrows = nrows, ncols = ncols, sharex=\"all\", figsize=(15,15))\n",
    "\n",
    "names_classifiers = [(\"AdaBoosting\", ada_best),(\"ExtraTrees\",ExtC_best),(\"RandomForest\",RFC_best),(\"GradientBoosting\",GBC_best)]\n",
    "\n",
    "nclassifier = 0\n",
    "for row in range(nrows):\n",
    "    for col in range(ncols):\n",
    "        name = names_classifiers[nclassifier][0]\n",
    "        classifier = names_classifiers[nclassifier][1]\n",
    "        indices = np.argsort(classifier.feature_importances_)[::-1][:40]\n",
    "        g = sns.barplot(y=X_train.columns[indices][:40],x = classifier.feature_importances_[indices][:40] , orient='h',ax=axes[row][col])\n",
    "        g.set_xlabel(\"Relative importance\",fontsize=12)\n",
    "        g.set_ylabel(\"Features\",fontsize=12)\n",
    "        g.tick_params(labelsize=9)\n",
    "        g.set_title(name + \" feature importance\")\n",
    "        nclassifier += 1"
   ]
  },
  {
   "cell_type": "code",
   "execution_count": 32,
   "metadata": {},
   "outputs": [
    {
     "ename": "NameError",
     "evalue": "name 'test' is not defined",
     "output_type": "error",
     "traceback": [
      "\u001b[0;31m---------------------------------------------------------------------------\u001b[0m",
      "\u001b[0;31mNameError\u001b[0m                                 Traceback (most recent call last)",
      "\u001b[0;32m<ipython-input-32-0f491a03e192>\u001b[0m in \u001b[0;36m<module>\u001b[0;34m()\u001b[0m\n\u001b[0;32m----> 1\u001b[0;31m \u001b[0mtest_Survived_RFC\u001b[0m \u001b[0;34m=\u001b[0m \u001b[0mpd\u001b[0m\u001b[0;34m.\u001b[0m\u001b[0mSeries\u001b[0m\u001b[0;34m(\u001b[0m\u001b[0mRFC_best\u001b[0m\u001b[0;34m.\u001b[0m\u001b[0mpredict\u001b[0m\u001b[0;34m(\u001b[0m\u001b[0mtest\u001b[0m\u001b[0;34m)\u001b[0m\u001b[0;34m,\u001b[0m \u001b[0mname\u001b[0m\u001b[0;34m=\u001b[0m\u001b[0;34m\"RFC\"\u001b[0m\u001b[0;34m)\u001b[0m\u001b[0;34m\u001b[0m\u001b[0m\n\u001b[0m\u001b[1;32m      2\u001b[0m \u001b[0mtest_Survived_ExtC\u001b[0m \u001b[0;34m=\u001b[0m \u001b[0mpd\u001b[0m\u001b[0;34m.\u001b[0m\u001b[0mSeries\u001b[0m\u001b[0;34m(\u001b[0m\u001b[0mExtC_best\u001b[0m\u001b[0;34m.\u001b[0m\u001b[0mpredict\u001b[0m\u001b[0;34m(\u001b[0m\u001b[0mtest\u001b[0m\u001b[0;34m)\u001b[0m\u001b[0;34m,\u001b[0m \u001b[0mname\u001b[0m\u001b[0;34m=\u001b[0m\u001b[0;34m\"ExtC\"\u001b[0m\u001b[0;34m)\u001b[0m\u001b[0;34m\u001b[0m\u001b[0m\n\u001b[1;32m      3\u001b[0m \u001b[0mtest_Survived_SVMC\u001b[0m \u001b[0;34m=\u001b[0m \u001b[0mpd\u001b[0m\u001b[0;34m.\u001b[0m\u001b[0mSeries\u001b[0m\u001b[0;34m(\u001b[0m\u001b[0mSVMC_best\u001b[0m\u001b[0;34m.\u001b[0m\u001b[0mpredict\u001b[0m\u001b[0;34m(\u001b[0m\u001b[0mtest\u001b[0m\u001b[0;34m)\u001b[0m\u001b[0;34m,\u001b[0m \u001b[0mname\u001b[0m\u001b[0;34m=\u001b[0m\u001b[0;34m\"SVC\"\u001b[0m\u001b[0;34m)\u001b[0m\u001b[0;34m\u001b[0m\u001b[0m\n\u001b[1;32m      4\u001b[0m \u001b[0mtest_Survived_AdaC\u001b[0m \u001b[0;34m=\u001b[0m \u001b[0mpd\u001b[0m\u001b[0;34m.\u001b[0m\u001b[0mSeries\u001b[0m\u001b[0;34m(\u001b[0m\u001b[0mada_best\u001b[0m\u001b[0;34m.\u001b[0m\u001b[0mpredict\u001b[0m\u001b[0;34m(\u001b[0m\u001b[0mtest\u001b[0m\u001b[0;34m)\u001b[0m\u001b[0;34m,\u001b[0m \u001b[0mname\u001b[0m\u001b[0;34m=\u001b[0m\u001b[0;34m\"Ada\"\u001b[0m\u001b[0;34m)\u001b[0m\u001b[0;34m\u001b[0m\u001b[0m\n\u001b[1;32m      5\u001b[0m \u001b[0mtest_Survived_GBC\u001b[0m \u001b[0;34m=\u001b[0m \u001b[0mpd\u001b[0m\u001b[0;34m.\u001b[0m\u001b[0mSeries\u001b[0m\u001b[0;34m(\u001b[0m\u001b[0mGBC_best\u001b[0m\u001b[0;34m.\u001b[0m\u001b[0mpredict\u001b[0m\u001b[0;34m(\u001b[0m\u001b[0mtest\u001b[0m\u001b[0;34m)\u001b[0m\u001b[0;34m,\u001b[0m \u001b[0mname\u001b[0m\u001b[0;34m=\u001b[0m\u001b[0;34m\"GBC\"\u001b[0m\u001b[0;34m)\u001b[0m\u001b[0;34m\u001b[0m\u001b[0m\n",
      "\u001b[0;31mNameError\u001b[0m: name 'test' is not defined"
     ]
    }
   ],
   "source": [
    "test_Survived_RFC = pd.Series(RFC_best.predict(test), name=\"RFC\")\n",
    "test_Survived_ExtC = pd.Series(ExtC_best.predict(test), name=\"ExtC\")\n",
    "test_Survived_SVMC = pd.Series(SVMC_best.predict(test), name=\"SVC\")\n",
    "test_Survived_AdaC = pd.Series(ada_best.predict(test), name=\"Ada\")\n",
    "test_Survived_GBC = pd.Series(GBC_best.predict(test), name=\"GBC\")\n",
    "\n",
    "\n",
    "# Concatenate all classifier results\n",
    "ensemble_results = pd.concat([test_Survived_RFC,test_Survived_ExtC,test_Survived_AdaC,test_Survived_GBC, test_Survived_SVMC],axis=1)\n",
    "\n",
    "\n",
    "g= sns.heatmap(ensemble_results.corr(),annot=True)"
   ]
  },
  {
   "cell_type": "code",
   "execution_count": null,
   "metadata": {
    "collapsed": true
   },
   "outputs": [],
   "source": [
    "votingC = VotingClassifier(estimators=[('rfc', RFC_best), ('extc', ExtC_best),\n",
    "('svc', SVMC_best), ('adac',ada_best),('gbc',GBC_best)], voting='soft', n_jobs=4)\n",
    "\n",
    "votingC = votingC.fit(X_train, Y_train)"
   ]
  },
  {
   "cell_type": "code",
   "execution_count": null,
   "metadata": {
    "collapsed": true
   },
   "outputs": [],
   "source": [
    "test_Survived = pd.Series(votingC.predict(test), name=\"Survived\")\n",
    "\n",
    "results = pd.concat([IDtest,test_Survived],axis=1)\n",
    "\n",
    "results.to_csv(\"ensemble_python_voting.csv\",index=False)"
   ]
  }
 ],
 "metadata": {
  "kernelspec": {
   "display_name": "Python 3",
   "language": "python",
   "name": "python3"
  },
  "language_info": {
   "codemirror_mode": {
    "name": "ipython",
    "version": 3
   },
   "file_extension": ".py",
   "mimetype": "text/x-python",
   "name": "python",
   "nbconvert_exporter": "python",
   "pygments_lexer": "ipython3",
   "version": "3.6.1"
  }
 },
 "nbformat": 4,
 "nbformat_minor": 2
}
