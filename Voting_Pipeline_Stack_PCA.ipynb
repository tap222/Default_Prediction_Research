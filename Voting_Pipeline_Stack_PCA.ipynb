{
 "cells": [
  {
   "cell_type": "code",
   "execution_count": 57,
   "metadata": {},
   "outputs": [],
   "source": [
    "# General Packages\n",
    "import pandas as pd\n",
    "import numpy as np\n",
    "import random as rnd\n",
    "import os\n",
    "import re\n",
    "# import multiprocessing\n",
    "\n",
    "# Visualization\n",
    "import seaborn as sns\n",
    "import matplotlib.pyplot as plt\n",
    "get_ipython().magic('matplotlib inline')\n",
    "plt.rcParams['figure.figsize'] = (16, 8)\n",
    "import scikitplot as skplt\n",
    "\n",
    "# Supervised Machine Learning Models\n",
    "from sklearn.linear_model import LogisticRegression\n",
    "from sklearn.naive_bayes import GaussianNB\n",
    "from sklearn.svm import SVC, LinearSVC\n",
    "from sklearn.ensemble import RandomForestClassifier, AdaBoostClassifier, BaggingClassifier, GradientBoostingClassifier\n",
    "from sklearn.tree import DecisionTreeClassifier\n",
    "from sklearn.neighbors import KNeighborsClassifier\n",
    "from sklearn.naive_bayes import GaussianNB\n",
    "from sklearn.linear_model import Perceptron, SGDClassifier\n",
    "from sklearn.neural_network import MLPClassifier\n",
    "from sklearn import feature_selection\n",
    "import xgboost as xgb\n",
    "from xgboost.sklearn import XGBClassifier # <3\n",
    "\n",
    "# Unsupervised Models\n",
    "from sklearn.decomposition import PCA\n",
    "\n",
    "# Evalaluation\n",
    "from sklearn.model_selection import train_test_split\n",
    "from sklearn import metrics\n",
    "from sklearn.model_selection import cross_val_score\n",
    "from sklearn.metrics import confusion_matrix, roc_curve, auc\n",
    "\n",
    "# Grid\n",
    "from sklearn.preprocessing import StandardScaler\n",
    "from sklearn.model_selection import StratifiedShuffleSplit\n",
    "from sklearn.feature_selection import RFE\n",
    "from sklearn.model_selection import GridSearchCV\n",
    "from sklearn.model_selection import RandomizedSearchCV\n",
    "import scipy.stats as st\n",
    "\n",
    "# Pipeline\n",
    "from sklearn.pipeline import make_pipeline\n",
    "from sklearn.pipeline import Pipeline\n",
    "\n",
    "# Esemble Voting\n",
    "from mlxtend.classifier import EnsembleVoteClassifier\n",
    "from sklearn import metrics\n",
    "from sklearn.metrics import classification_report, accuracy_score\n",
    "\n",
    "# Stacking\n",
    "from sklearn.preprocessing import StandardScaler\n",
    "from sklearn import metrics\n",
    "from matplotlib.colors import ListedColormap\n",
    "\n",
    "# Warnings\n",
    "import warnings\n",
    "warnings.filterwarnings('ignore')\n",
    "\n",
    "import time\n",
    "import datetime\n",
    "import platform\n",
    "start = time.time()"
   ]
  },
  {
   "cell_type": "code",
   "execution_count": 4,
   "metadata": {},
   "outputs": [
    {
     "name": "stdout",
     "output_type": "stream",
     "text": [
      "Version      : 3.6.2\n",
      "Compiler     : GCC 7.2.0\n",
      "Build        : ('default', 'Sep 30 2017 18:42:57')\n",
      "\n",
      "Current date and time using isoformat:\n",
      "2018-02-15T16:47:23.170024\n"
     ]
    }
   ],
   "source": [
    "print('Version      :', platform.python_version())\n",
    "print('Compiler     :', platform.python_compiler())\n",
    "print('Build        :', platform.python_build())\n",
    "\n",
    "print(\"\\nCurrent date and time using isoformat:\")\n",
    "print(datetime.datetime.now().isoformat())"
   ]
  },
  {
   "cell_type": "code",
   "execution_count": 5,
   "metadata": {
    "collapsed": true
   },
   "outputs": [],
   "source": [
    "# Master Parameters:\n",
    "n_splits = 5 # Cross Validation Splits\n",
    "n_iter = 65 # Randomized Search Iterations\n",
    "scoring = 'accuracy' # Model Selection during Cross-Validation\n",
    "rstate = 25 # Random State used \n",
    "testset_size = 0.30\n",
    "\n",
    "# Trees Parameters\n",
    "n_tree_range = st.randint(600, 1200)\n",
    "\n",
    "# XGboost boosting rounds\n",
    "num_rounds = 1000"
   ]
  },
  {
   "cell_type": "code",
   "execution_count": 6,
   "metadata": {},
   "outputs": [
    {
     "data": {
      "text/plain": [
       "['Keras_implementation.ipynb',\n",
       " 'data.csv',\n",
       " 'Ensembling_Voting_Classifier.ipynb',\n",
       " 'Voting_Pipeline_Stack.ipynb',\n",
       " '.gitignore',\n",
       " '.ipynb_checkpoints']"
      ]
     },
     "execution_count": 6,
     "metadata": {},
     "output_type": "execute_result"
    }
   ],
   "source": [
    "import os\n",
    "os.chdir('/home/tapas/Default_Prediction_Research-master/')\n",
    "os.listdir(\".\")"
   ]
  },
  {
   "cell_type": "code",
   "execution_count": 18,
   "metadata": {
    "collapsed": true
   },
   "outputs": [],
   "source": [
    "# Load\n",
    "df = pd.read_csv('data_n.csv')\n",
    "# For Pre-Processing, combine train/test to simultaneously apply transformations\n",
    "Target = df['Target'].copy()\n",
    "traindex = df.index"
   ]
  },
  {
   "cell_type": "code",
   "execution_count": 19,
   "metadata": {},
   "outputs": [
    {
     "data": {
      "text/plain": [
       "RangeIndex(start=0, stop=727, step=1)"
      ]
     },
     "execution_count": 19,
     "metadata": {},
     "output_type": "execute_result"
    }
   ],
   "source": [
    "traindex"
   ]
  },
  {
   "cell_type": "code",
   "execution_count": 20,
   "metadata": {},
   "outputs": [
    {
     "data": {
      "text/plain": [
       "Company.Name    0\n",
       "PBDITAM         0\n",
       "PATMARG         0\n",
       "CASHPRFM        0\n",
       "NPM             0\n",
       "ROE             0\n",
       "ROCE            0\n",
       "RONW            0\n",
       "TNW             0\n",
       "CR              0\n",
       "QR              0\n",
       "DE              0\n",
       "EXP%SALES       0\n",
       "FOREXEARNGS     0\n",
       "DR              0\n",
       "CL/NW           0\n",
       "SALES           0\n",
       "Size            0\n",
       "MKTCAP          0\n",
       "LTD             0\n",
       "DEBTORDAYS      0\n",
       "CREDITORDAYS    0\n",
       "NWCCYCLE        0\n",
       "YEAR            0\n",
       "Target          0\n",
       "dtype: int64"
      ]
     },
     "execution_count": 20,
     "metadata": {},
     "output_type": "execute_result"
    }
   ],
   "source": [
    "df.isnull().sum()"
   ]
  },
  {
   "cell_type": "code",
   "execution_count": 21,
   "metadata": {},
   "outputs": [
    {
     "data": {
      "text/plain": [
       "Index(['Company.Name', 'PBDITAM', 'PATMARG', 'CASHPRFM', 'NPM', 'ROE', 'ROCE',\n",
       "       'RONW', 'TNW', 'CR', 'QR', 'DE', 'EXP%SALES', 'FOREXEARNGS', 'DR',\n",
       "       'CL/NW', 'SALES', 'Size', 'MKTCAP', 'LTD', 'DEBTORDAYS', 'CREDITORDAYS',\n",
       "       'NWCCYCLE', 'YEAR', 'Target'],\n",
       "      dtype='object')"
      ]
     },
     "execution_count": 21,
     "metadata": {},
     "output_type": "execute_result"
    }
   ],
   "source": [
    "df.columns"
   ]
  },
  {
   "cell_type": "code",
   "execution_count": 22,
   "metadata": {},
   "outputs": [
    {
     "data": {
      "text/html": [
       "<div>\n",
       "<style>\n",
       "    .dataframe thead tr:only-child th {\n",
       "        text-align: right;\n",
       "    }\n",
       "\n",
       "    .dataframe thead th {\n",
       "        text-align: left;\n",
       "    }\n",
       "\n",
       "    .dataframe tbody tr th {\n",
       "        vertical-align: top;\n",
       "    }\n",
       "</style>\n",
       "<table border=\"1\" class=\"dataframe\">\n",
       "  <thead>\n",
       "    <tr style=\"text-align: right;\">\n",
       "      <th></th>\n",
       "      <th>Company.Name</th>\n",
       "      <th>PBDITAM</th>\n",
       "      <th>PATMARG</th>\n",
       "      <th>CASHPRFM</th>\n",
       "      <th>NPM</th>\n",
       "      <th>ROE</th>\n",
       "      <th>ROCE</th>\n",
       "      <th>RONW</th>\n",
       "      <th>TNW</th>\n",
       "      <th>CR</th>\n",
       "      <th>...</th>\n",
       "      <th>CL/NW</th>\n",
       "      <th>SALES</th>\n",
       "      <th>Size</th>\n",
       "      <th>MKTCAP</th>\n",
       "      <th>LTD</th>\n",
       "      <th>DEBTORDAYS</th>\n",
       "      <th>CREDITORDAYS</th>\n",
       "      <th>NWCCYCLE</th>\n",
       "      <th>YEAR</th>\n",
       "      <th>Target</th>\n",
       "    </tr>\n",
       "  </thead>\n",
       "  <tbody>\n",
       "    <tr>\n",
       "      <th>0</th>\n",
       "      <td>Adani Enterprises Ltd.</td>\n",
       "      <td>6.28</td>\n",
       "      <td>3.83</td>\n",
       "      <td>3.84</td>\n",
       "      <td>2.42</td>\n",
       "      <td>27.87</td>\n",
       "      <td>7.96</td>\n",
       "      <td>17.34</td>\n",
       "      <td>4769.1</td>\n",
       "      <td>1.41</td>\n",
       "      <td>...</td>\n",
       "      <td>166.22</td>\n",
       "      <td>30062.4</td>\n",
       "      <td>20379.8</td>\n",
       "      <td>4798.62</td>\n",
       "      <td>15744.9</td>\n",
       "      <td>107.99</td>\n",
       "      <td>71.89</td>\n",
       "      <td>115.46</td>\n",
       "      <td>1993.0</td>\n",
       "      <td>0</td>\n",
       "    </tr>\n",
       "    <tr>\n",
       "      <th>1</th>\n",
       "      <td>Adani Enterprises Ltd.</td>\n",
       "      <td>5.90</td>\n",
       "      <td>1.14</td>\n",
       "      <td>2.29</td>\n",
       "      <td>1.17</td>\n",
       "      <td>6.72</td>\n",
       "      <td>3.23</td>\n",
       "      <td>6.87</td>\n",
       "      <td>4961.1</td>\n",
       "      <td>1.27</td>\n",
       "      <td>...</td>\n",
       "      <td>166.93</td>\n",
       "      <td>28124.4</td>\n",
       "      <td>22697.2</td>\n",
       "      <td>3568.92</td>\n",
       "      <td>13932.8</td>\n",
       "      <td>128.83</td>\n",
       "      <td>87.05</td>\n",
       "      <td>100.23</td>\n",
       "      <td>1993.0</td>\n",
       "      <td>0</td>\n",
       "    </tr>\n",
       "    <tr>\n",
       "      <th>2</th>\n",
       "      <td>Adani Enterprises Ltd.</td>\n",
       "      <td>6.92</td>\n",
       "      <td>1.86</td>\n",
       "      <td>3.13</td>\n",
       "      <td>1.84</td>\n",
       "      <td>10.31</td>\n",
       "      <td>5.38</td>\n",
       "      <td>10.22</td>\n",
       "      <td>5406.8</td>\n",
       "      <td>1.44</td>\n",
       "      <td>...</td>\n",
       "      <td>123.93</td>\n",
       "      <td>27617.3</td>\n",
       "      <td>22953.2</td>\n",
       "      <td>2710.18</td>\n",
       "      <td>14608.1</td>\n",
       "      <td>131.37</td>\n",
       "      <td>80.62</td>\n",
       "      <td>64.66</td>\n",
       "      <td>1993.0</td>\n",
       "      <td>0</td>\n",
       "    </tr>\n",
       "    <tr>\n",
       "      <th>3</th>\n",
       "      <td>Adani Enterprises Ltd.</td>\n",
       "      <td>3.32</td>\n",
       "      <td>1.72</td>\n",
       "      <td>1.74</td>\n",
       "      <td>1.65</td>\n",
       "      <td>21.52</td>\n",
       "      <td>12.18</td>\n",
       "      <td>20.58</td>\n",
       "      <td>6128.0</td>\n",
       "      <td>1.56</td>\n",
       "      <td>...</td>\n",
       "      <td>147.38</td>\n",
       "      <td>70686.9</td>\n",
       "      <td>30111.2</td>\n",
       "      <td>8859.20</td>\n",
       "      <td>41529.5</td>\n",
       "      <td>55.57</td>\n",
       "      <td>36.29</td>\n",
       "      <td>30.67</td>\n",
       "      <td>1993.0</td>\n",
       "      <td>0</td>\n",
       "    </tr>\n",
       "    <tr>\n",
       "      <th>4</th>\n",
       "      <td>Adani Enterprises Ltd.</td>\n",
       "      <td>2.57</td>\n",
       "      <td>0.79</td>\n",
       "      <td>0.81</td>\n",
       "      <td>0.73</td>\n",
       "      <td>16.83</td>\n",
       "      <td>8.02</td>\n",
       "      <td>15.51</td>\n",
       "      <td>6744.3</td>\n",
       "      <td>1.29</td>\n",
       "      <td>...</td>\n",
       "      <td>175.90</td>\n",
       "      <td>135135.3</td>\n",
       "      <td>50923.8</td>\n",
       "      <td>13481.63</td>\n",
       "      <td>46214.6</td>\n",
       "      <td>44.42</td>\n",
       "      <td>35.88</td>\n",
       "      <td>16.94</td>\n",
       "      <td>1993.0</td>\n",
       "      <td>0</td>\n",
       "    </tr>\n",
       "  </tbody>\n",
       "</table>\n",
       "<p>5 rows × 25 columns</p>\n",
       "</div>"
      ],
      "text/plain": [
       "             Company.Name  PBDITAM  PATMARG  CASHPRFM   NPM    ROE   ROCE  \\\n",
       "0  Adani Enterprises Ltd.     6.28     3.83      3.84  2.42  27.87   7.96   \n",
       "1  Adani Enterprises Ltd.     5.90     1.14      2.29  1.17   6.72   3.23   \n",
       "2  Adani Enterprises Ltd.     6.92     1.86      3.13  1.84  10.31   5.38   \n",
       "3  Adani Enterprises Ltd.     3.32     1.72      1.74  1.65  21.52  12.18   \n",
       "4  Adani Enterprises Ltd.     2.57     0.79      0.81  0.73  16.83   8.02   \n",
       "\n",
       "    RONW     TNW    CR   ...     CL/NW     SALES     Size    MKTCAP      LTD  \\\n",
       "0  17.34  4769.1  1.41   ...    166.22   30062.4  20379.8   4798.62  15744.9   \n",
       "1   6.87  4961.1  1.27   ...    166.93   28124.4  22697.2   3568.92  13932.8   \n",
       "2  10.22  5406.8  1.44   ...    123.93   27617.3  22953.2   2710.18  14608.1   \n",
       "3  20.58  6128.0  1.56   ...    147.38   70686.9  30111.2   8859.20  41529.5   \n",
       "4  15.51  6744.3  1.29   ...    175.90  135135.3  50923.8  13481.63  46214.6   \n",
       "\n",
       "   DEBTORDAYS  CREDITORDAYS  NWCCYCLE    YEAR  Target  \n",
       "0      107.99         71.89    115.46  1993.0       0  \n",
       "1      128.83         87.05    100.23  1993.0       0  \n",
       "2      131.37         80.62     64.66  1993.0       0  \n",
       "3       55.57         36.29     30.67  1993.0       0  \n",
       "4       44.42         35.88     16.94  1993.0       0  \n",
       "\n",
       "[5 rows x 25 columns]"
      ]
     },
     "execution_count": 22,
     "metadata": {},
     "output_type": "execute_result"
    }
   ],
   "source": [
    "df.head(5)"
   ]
  },
  {
   "cell_type": "code",
   "execution_count": 23,
   "metadata": {
    "collapsed": true
   },
   "outputs": [],
   "source": [
    "del df['Company.Name']"
   ]
  },
  {
   "cell_type": "markdown",
   "metadata": {},
   "source": [
    "### Feature Engineering"
   ]
  },
  {
   "cell_type": "code",
   "execution_count": 24,
   "metadata": {
    "collapsed": true
   },
   "outputs": [],
   "source": [
    "df['YEAR'] = df['YEAR'].astype('category')"
   ]
  },
  {
   "cell_type": "code",
   "execution_count": 25,
   "metadata": {
    "collapsed": true
   },
   "outputs": [],
   "source": [
    "age_bins = [0,1960,1970,1980,1990,2000,2017]\n",
    "age_labels = ['1','2','3','4','5','6']\n",
    "df['YEAR'] = pd.cut(df['YEAR'], age_bins, labels = age_labels,right=True,include_lowest = True)"
   ]
  },
  {
   "cell_type": "code",
   "execution_count": 26,
   "metadata": {
    "collapsed": true
   },
   "outputs": [],
   "source": [
    "df['Age_1'] = df['YEAR'].map(lambda s:1 if s == '1' else 0)\n",
    "df['Age_2'] = df['YEAR'].map(lambda s:1 if s == '2' else 0)\n",
    "df['Age_3'] = df['YEAR'].map(lambda s:1 if s == '3' else 0)\n",
    "df['Age_4'] = df['YEAR'].map(lambda s:1 if s == '4' else 0)\n",
    "df['Age_5'] = df['YEAR'].map(lambda s:1 if s == '5' else 0)\n",
    "df['Age_6'] = df['YEAR'].map(lambda s:1 if s == '6' else 0)\n",
    "#del df['YEAR']\n",
    "df = df.drop(labels = ['YEAR'],axis = 1)"
   ]
  },
  {
   "cell_type": "code",
   "execution_count": 27,
   "metadata": {},
   "outputs": [
    {
     "name": "stdout",
     "output_type": "stream",
     "text": [
      "X, Y: (727, 28) (727,)\n"
     ]
    }
   ],
   "source": [
    "# Depedent and Indepedent Variables\n",
    "X = df.drop([\"Target\"] , axis=1)\n",
    "y = df[\"Target\"]\n",
    "print(\"X, Y:\",X.shape, y.shape) # Data Dimensions\n",
    "\n",
    "# Storage for Model and Results\n",
    "results = pd.DataFrame(columns=['Model','Para','Test_Score','CV Mean','CV STDEV'])\n",
    "ensemble_models= {}"
   ]
  },
  {
   "cell_type": "markdown",
   "metadata": {},
   "source": [
    "### Imbalanced Dependent Variable"
   ]
  },
  {
   "cell_type": "code",
   "execution_count": null,
   "metadata": {
    "collapsed": true
   },
   "outputs": [],
   "source": []
  },
  {
   "cell_type": "code",
   "execution_count": 28,
   "metadata": {},
   "outputs": [
    {
     "name": "stdout",
     "output_type": "stream",
     "text": [
      "Depedent Variable Distribution\n",
      "0    77.716644\n",
      "1    22.283356\n",
      "Name: Target, dtype: float64\n",
      "0 = Insolvent \n",
      "1 = Solvent\n"
     ]
    }
   ],
   "source": [
    "print(\"Depedent Variable Distribution\")\n",
    "print(y.value_counts(normalize=True)*100)\n",
    "print(\"0 = Insolvent\", \"\\n1 = Solvent\")"
   ]
  },
  {
   "cell_type": "markdown",
   "metadata": {},
   "source": [
    "### Dimensionality Reduction: Principal Components"
   ]
  },
  {
   "cell_type": "code",
   "execution_count": 29,
   "metadata": {},
   "outputs": [
    {
     "name": "stdout",
     "output_type": "stream",
     "text": [
      "Feature Count (With One Hot Encoding): 28\n"
     ]
    }
   ],
   "source": [
    "print(\"Feature Count (With One Hot Encoding):\", X.shape[1])"
   ]
  },
  {
   "cell_type": "code",
   "execution_count": 30,
   "metadata": {},
   "outputs": [
    {
     "name": "stdout",
     "output_type": "stream",
     "text": [
      "2 Components \n",
      "Explained Variance: [0.55179462 0.28895481]\n",
      "\n",
      "4 Components \n",
      "Explained Variance: [0.55179462 0.28895481 0.08699055 0.03756468]\n",
      "\n",
      "6 Components \n",
      "Explained Variance: [0.55179462 0.28895481 0.08699055 0.03756468 0.01275761 0.0093668 ]\n",
      "\n",
      "8 Components \n",
      "Explained Variance: [0.55179462 0.28895481 0.08699055 0.03756468 0.01275761 0.0093668\n",
      " 0.00622672 0.00334337]\n",
      "\n",
      "10 Components \n",
      "Explained Variance: [0.55179462 0.28895481 0.08699055 0.03756468 0.01275761 0.0093668\n",
      " 0.00622672 0.00334337 0.00162333 0.0013562 ]\n",
      "\n",
      "12 Components \n",
      "Explained Variance: [5.51794616e-01 2.88954810e-01 8.69905520e-02 3.75646808e-02\n",
      " 1.27576148e-02 9.36680299e-03 6.22671955e-03 3.34337293e-03\n",
      " 1.62333360e-03 1.35620179e-03 1.05516146e-05 1.02126834e-05]\n",
      "\n"
     ]
    }
   ],
   "source": [
    "levels = [2,4,6,8,10,12]\n",
    "for x in levels:\n",
    "    pca = PCA(n_components=x)\n",
    "    fit = pca.fit(df)\n",
    "\n",
    "    print((\"{} Components \\nExplained Variance: {}\\n\").format(x, fit.explained_variance_ratio_))\n",
    "    #print(fit.components_)"
   ]
  },
  {
   "cell_type": "code",
   "execution_count": 31,
   "metadata": {},
   "outputs": [
    {
     "data": {
      "image/png": "[encoded data removed]",
      "text/plain": [
       "<matplotlib.figure.Figure at 0x7f1f6c9e2860>"
      ]
     },
     "metadata": {},
     "output_type": "display_data"
    }
   ],
   "source": [
    "# Reduce Dimensionality\n",
    "pca = PCA(n_components=5)\n",
    "fit = pca.fit(X)\n",
    "\n",
    "sns.heatmap(pd.concat([pd.DataFrame(fit.transform(X)), Target],\n",
    "                      axis=1).corr(), annot=True, fmt=\".2f\")\n",
    "# Apply Reduction\n",
    "X = pd.DataFrame(fit.transform(X))"
   ]
  },
  {
   "cell_type": "markdown",
   "metadata": {},
   "source": [
    "### Train/Test Split"
   ]
  },
  {
   "cell_type": "code",
   "execution_count": 32,
   "metadata": {
    "collapsed": true
   },
   "outputs": [],
   "source": [
    "# Stratified Train/Test Split\n",
    "X_train, X_test, y_train, y_test = train_test_split(X, y, test_size=testset_size, stratify=y,random_state=rstate)\n",
    "X_train.shape, y_train.shape, X_test.shape, y_test.shape\n",
    "\n",
    "# Stratified Cross-Validation\n",
    "cv = StratifiedShuffleSplit(n_splits=n_splits, test_size=0.2, random_state=rstate)"
   ]
  },
  {
   "cell_type": "markdown",
   "metadata": {},
   "source": [
    "### Helper Functions"
   ]
  },
  {
   "cell_type": "code",
   "execution_count": 33,
   "metadata": {
    "collapsed": true
   },
   "outputs": [],
   "source": [
    "# Compute, Print, and Save Model Evaluation\n",
    "def save(model, modelname):\n",
    "    \"\"\"\n",
    "    This funciton saves the cross-validated and test set evaluation value and standard deviation\n",
    "    to the results dataframe, then it executes the model prediction on the submission set.\n",
    "    Finally, it also outputs a confusion matrix of the test set.\n",
    "    \n",
    "    Arguments:\n",
    "    model = The Sklearn Randomized/Grid SearchCV model.\n",
    "    modelname = String of the model name for saving purposes.\n",
    "    \"\"\"\n",
    "    global results\n",
    "    # Once best model is found, establish more evaluation metrics.\n",
    "    model.best_estimator_.fit(X_train, y_train)\n",
    "    \n",
    "    # submission = model.predict(test_df)\n",
    "    # df = pd.DataFrame({'PassengerId':test_df.index,'Survived':submission})\n",
    "    # path = ...\n",
    "    # df.to_csv((os.path.join(path,(\"submissions/{}.csv\".format(modelname)))),header=True,index=False)\n",
    "    \n",
    "    scores = cross_val_score(model.best_estimator_, X_train, y_train, cv=5,\n",
    "                             scoring=scoring, verbose =0)\n",
    "    CV_scores = scores.mean()\n",
    "    STDev = scores.std()\n",
    "    Test_scores = model.score(X_test, y_test)\n",
    "\n",
    "    # CV and Save scores\n",
    "    results = results.append({'Model': modelname,'Para': model.best_params_,'Test_Score': Test_scores,\n",
    "                             'CV Mean':CV_scores, 'CV STDEV': STDev}, ignore_index=True)\n",
    "    ensemble_models[modelname] = model.best_estimator_\n",
    "    \n",
    "    # Print Evaluation\n",
    "    print(\"\\nEvaluation Method: {}\".format(scoring))\n",
    "    print(\"Optimal Model Parameters: {}\".format(grid.best_params_))\n",
    "    print(\"Train CV Accuracy: %0.2f (+/- %0.2f) [%s]\" % (CV_scores, STDev, modelname))\n",
    "    print('Test_Score:', Test_scores)\n",
    "        \n",
    "    # Scikit Confusion Matrix\n",
    "    model.best_estimator_.fit(X_train, y_train)\n",
    "    pred = model.predict(X_test)\n",
    "    skplt.metrics.plot_confusion_matrix(y_test, pred, title=\"{} Confusion Matrix\".format(modelname),\n",
    "                normalize=True,figsize=(6,6),text_fontsize='large')\n",
    "    plt.show()\n",
    "    # Colors https://matplotlib.org/examples/color/colormaps_reference.html\n",
    "\n",
    "def norm_save(model,score, modelname):\n",
    "    global results\n",
    "    model.fit(X, y)\n",
    "    submission = model.predict(test_df)\n",
    "    df = pd.DataFrame({'Company.Name':test_df.index, \n",
    "                           'Target':submission})\n",
    "    \n",
    "    CV_Score = score.mean()\n",
    "    Test_scores = model.score(X_test, y_test)\n",
    "    STDev = score.std()\n",
    "    \n",
    "    # CV and Save Scores\n",
    "    Test_Score = model.score(X_test, y_test)\n",
    "    results = results.append({'Model': modelname,'Para': model,'Test_Score': Test_scores,\n",
    "                             'CV Mean': CV_Score, 'CV STDEV': STDev}, ignore_index=True)\n",
    "    ensemble_models[modelname] = model\n",
    "    \n",
    "    print(\"\\nEvaluation Method: {}\".format(scoring))\n",
    "    print(\"Train CV Accuracy: %0.2f (+/- %0.2f) [%s]\" % (CV_Score, STDev, modelname))  \n",
    "    print('Test_Score:', Test_scores)\n",
    "        \n",
    "    #Scikit Confusion Matrix\n",
    "    model.fit(X_train, y_train)\n",
    "    pred = model.predict(X_test)\n",
    "    skplt.metrics.plot_confusion_matrix(y_test, pred, title=\"{} Confusion Matrix\".format(modelname),\n",
    "                normalize=True,figsize=(6,6),text_fontsize='large')\n",
    "    plt.show()\n",
    "    \n",
    "# ROC Curve Plot\n",
    "# http://scikit-plot.readthedocs.io/en/stable/metrics.html\n",
    "def eval_plot(model):\n",
    "    skplt.metrics.plot_roc_curve(y_test, model.predict_proba(X_test))\n",
    "    plt.show()"
   ]
  },
  {
   "cell_type": "markdown",
   "metadata": {},
   "source": [
    "### K-Nearest Neighbors"
   ]
  },
  {
   "cell_type": "code",
   "execution_count": 34,
   "metadata": {},
   "outputs": [
    {
     "name": "stdout",
     "output_type": "stream",
     "text": [
      "Fitting 5 folds for each of 65 candidates, totalling 325 fits\n"
     ]
    },
    {
     "name": "stderr",
     "output_type": "stream",
     "text": [
      "[Parallel(n_jobs=1)]: Done 325 out of 325 | elapsed:    5.2s finished\n"
     ]
    },
    {
     "name": "stdout",
     "output_type": "stream",
     "text": [
      "\n",
      "Evaluation Method: accuracy\n",
      "Optimal Model Parameters: {'n_neighbors': 5, 'weights': 'distance'}\n",
      "Train CV Accuracy: 0.93 (+/- 0.02) [KNN]\n",
      "Test_Score: 0.9315068493150684\n"
     ]
    },
    {
     "data": {
      "image/png": "[encoded data removed]",
      "text/plain": [
       "<matplotlib.figure.Figure at 0x7f1f68f5f3c8>"
      ]
     },
     "metadata": {},
     "output_type": "display_data"
    }
   ],
   "source": [
    "# Hyper parameters. Since RandomizedSearchCV is used, I use an uniform random interger range for the function to choose from.\n",
    "param_grid ={'n_neighbors': st.randint(1,40),\n",
    "             # Increasing this value reduces bias, and increases variance. Don't Overfit!\n",
    "            'weights':['uniform','distance']\n",
    "            }\n",
    "# Hyper-Parameter Tuning with Cross-Validation\n",
    "grid = RandomizedSearchCV(KNeighborsClassifier(),\n",
    "                    param_grid, # Hyper Parameters\n",
    "                    cv=cv, # Cross-Validation splits. Stratified.\n",
    "                    scoring=scoring, # Best-Validation selection metric.\n",
    "                    verbose=1, # Quality of Life. Frequency of model updates\n",
    "                    n_iter=n_iter, # Number of hyperparameter combinations tried.\n",
    "                    random_state=rstate) # Reproducibility \n",
    "\n",
    "# Execute Tuning on entire dataset\n",
    "grid.fit(X_train, y_train)\n",
    "save(grid, \"KNN\")"
   ]
  },
  {
   "cell_type": "code",
   "execution_count": 35,
   "metadata": {},
   "outputs": [
    {
     "data": {
      "text/plain": [
       "dict_keys(['alpha', 'average', 'class_weight', 'epsilon', 'eta0', 'fit_intercept', 'l1_ratio', 'learning_rate', 'loss', 'max_iter', 'n_iter', 'n_jobs', 'penalty', 'power_t', 'random_state', 'shuffle', 'tol', 'verbose', 'warm_start'])"
      ]
     },
     "execution_count": 35,
     "metadata": {},
     "output_type": "execute_result"
    }
   ],
   "source": [
    "SGDClassifier().get_params().keys()"
   ]
  },
  {
   "cell_type": "code",
   "execution_count": 36,
   "metadata": {},
   "outputs": [
    {
     "name": "stdout",
     "output_type": "stream",
     "text": [
      "Fitting 5 folds for each of 5 candidates, totalling 25 fits\n"
     ]
    },
    {
     "name": "stderr",
     "output_type": "stream",
     "text": [
      "[Parallel(n_jobs=1)]: Done  25 out of  25 | elapsed:    1.0s finished\n"
     ]
    },
    {
     "name": "stdout",
     "output_type": "stream",
     "text": [
      "\n",
      "Evaluation Method: accuracy\n",
      "Optimal Model Parameters: {'loss': 'modified_huber'}\n",
      "Train CV Accuracy: 0.77 (+/- 0.06) [StochasticGradientDescent]\n",
      "Test_Score: 0.6529680365296804\n"
     ]
    },
    {
     "data": {
      "image/png": "[encoded data removed]",
      "text/plain": [
       "<matplotlib.figure.Figure at 0x7f1f68f5fb70>"
      ]
     },
     "metadata": {},
     "output_type": "display_data"
    }
   ],
   "source": [
    "param_grid ={'loss':[\"hinge\",\"log\",\"modified_huber\",\"epsilon_insensitive\",\"squared_epsilon_insensitive\"]\n",
    "            }\n",
    "\n",
    "grid = GridSearchCV(SGDClassifier(),\n",
    "                    param_grid,cv=cv, scoring=scoring,\n",
    "                    verbose=1)\n",
    "\n",
    "grid.fit(X_train, y_train)\n",
    "save(grid, \"StochasticGradientDescent\")"
   ]
  },
  {
   "cell_type": "markdown",
   "metadata": {},
   "source": [
    "### Decision Trees"
   ]
  },
  {
   "cell_type": "code",
   "execution_count": 37,
   "metadata": {
    "collapsed": true
   },
   "outputs": [],
   "source": [
    "# Helper Function to visualize feature importance\n",
    "predictors = [x for x in X.columns if x not in ['Target']]\n",
    "def feature_imp(model):\n",
    "    MO = model.fit(X_train, y_train)\n",
    "    feat_imp = pd.Series(MO.feature_importances_, predictors).sort_values(ascending=False)\n",
    "    feat_imp.plot(kind='bar', title='Feature Importances')\n",
    "    plt.ylabel('Feature Importance Score')"
   ]
  },
  {
   "cell_type": "code",
   "execution_count": 38,
   "metadata": {},
   "outputs": [
    {
     "data": {
      "text/plain": [
       "dict_keys(['class_weight', 'criterion', 'max_depth', 'max_features', 'max_leaf_nodes', 'min_impurity_decrease', 'min_impurity_split', 'min_samples_leaf', 'min_samples_split', 'min_weight_fraction_leaf', 'presort', 'random_state', 'splitter'])"
      ]
     },
     "execution_count": 38,
     "metadata": {},
     "output_type": "execute_result"
    }
   ],
   "source": [
    "DecisionTreeClassifier().get_params().keys()"
   ]
  },
  {
   "cell_type": "markdown",
   "metadata": {},
   "source": [
    "### Feature Importance Graphic"
   ]
  },
  {
   "cell_type": "code",
   "execution_count": 39,
   "metadata": {},
   "outputs": [
    {
     "name": "stdout",
     "output_type": "stream",
     "text": [
      "Mean CV Accuracy: 0.8753424657534247\n"
     ]
    },
    {
     "data": {
      "image/png": "[encoded data removed]",
      "text/plain": [
       "<matplotlib.figure.Figure at 0x7f1f68e0bdd8>"
      ]
     },
     "metadata": {},
     "output_type": "display_data"
    }
   ],
   "source": [
    "# Baseline Decision Tree\n",
    "tree = DecisionTreeClassifier()\n",
    "print(\"Mean CV Accuracy:\",cross_val_score(tree, X, y, cv=cv, scoring=scoring).mean())\n",
    "feature_imp(tree)"
   ]
  },
  {
   "cell_type": "markdown",
   "metadata": {},
   "source": [
    "### Bootstrap aggregating (AKA Bagging) Decision Trees"
   ]
  },
  {
   "cell_type": "code",
   "execution_count": 40,
   "metadata": {},
   "outputs": [
    {
     "name": "stdout",
     "output_type": "stream",
     "text": [
      "Fitting 5 folds for each of 65 candidates, totalling 325 fits\n"
     ]
    },
    {
     "name": "stderr",
     "output_type": "stream",
     "text": [
      "[Parallel(n_jobs=1)]: Done 325 out of 325 | elapsed: 26.1min finished\n"
     ]
    },
    {
     "name": "stdout",
     "output_type": "stream",
     "text": [
      "\n",
      "Evaluation Method: accuracy\n",
      "Optimal Model Parameters: {'n_estimators': 1148}\n",
      "Train CV Accuracy: 0.92 (+/- 0.03) [Bagger_ensemble]\n",
      "Test_Score: 0.9360730593607306\n"
     ]
    },
    {
     "data": {
      "image/png": "[encoded data removed]",
      "text/plain": [
       "<matplotlib.figure.Figure at 0x7f1f6c9ad7f0>"
      ]
     },
     "metadata": {},
     "output_type": "display_data"
    }
   ],
   "source": [
    "# Parameter Tuning\n",
    "param_grid ={'n_estimators': n_tree_range}\n",
    "\n",
    "tree = DecisionTreeClassifier()\n",
    "grid = RandomizedSearchCV(BaggingClassifier(tree),\n",
    "                    param_grid, cv=cv, scoring=scoring,\n",
    "                    verbose=1,n_iter=n_iter, random_state=rstate)\n",
    "\n",
    "grid.fit(X_train, y_train)\n",
    "save(grid, \"Bagger_ensemble\")"
   ]
  },
  {
   "cell_type": "markdown",
   "metadata": {},
   "source": [
    "### Random Forest"
   ]
  },
  {
   "cell_type": "code",
   "execution_count": 41,
   "metadata": {},
   "outputs": [
    {
     "name": "stdout",
     "output_type": "stream",
     "text": [
      "Mean CV Accuracy: 0.9164383561643836\n"
     ]
    },
    {
     "data": {
      "image/png": "[encoded data removed]",
      "text/plain": [
       "<matplotlib.figure.Figure at 0x7f1f68e47ba8>"
      ]
     },
     "metadata": {},
     "output_type": "display_data"
    }
   ],
   "source": [
    "model = RandomForestClassifier()\n",
    "print(\"Mean CV Accuracy:\",cross_val_score(model, X, y, cv=cv, scoring=scoring).mean())\n",
    "feature_imp(model)"
   ]
  },
  {
   "cell_type": "code",
   "execution_count": 42,
   "metadata": {},
   "outputs": [
    {
     "data": {
      "text/plain": [
       "dict_keys(['bootstrap', 'class_weight', 'criterion', 'max_depth', 'max_features', 'max_leaf_nodes', 'min_impurity_decrease', 'min_impurity_split', 'min_samples_leaf', 'min_samples_split', 'min_weight_fraction_leaf', 'n_estimators', 'n_jobs', 'oob_score', 'random_state', 'verbose', 'warm_start'])"
      ]
     },
     "execution_count": 42,
     "metadata": {},
     "output_type": "execute_result"
    }
   ],
   "source": [
    "RandomForestClassifier().get_params().keys()"
   ]
  },
  {
   "cell_type": "code",
   "execution_count": 43,
   "metadata": {},
   "outputs": [
    {
     "name": "stdout",
     "output_type": "stream",
     "text": [
      "Fitting 5 folds for each of 65 candidates, totalling 325 fits\n"
     ]
    },
    {
     "name": "stderr",
     "output_type": "stream",
     "text": [
      "[Parallel(n_jobs=1)]: Done 325 out of 325 | elapsed: 24.9min finished\n"
     ]
    },
    {
     "name": "stdout",
     "output_type": "stream",
     "text": [
      "\n",
      "Evaluation Method: accuracy\n",
      "Optimal Model Parameters: {'max_depth': 7, 'max_features': 0.8000000000000003, 'max_leaf_nodes': 9, 'n_estimators': 1033}\n",
      "Train CV Accuracy: 0.90 (+/- 0.02) [Random_Forest]\n",
      "Test_Score: 0.9315068493150684\n"
     ]
    },
    {
     "data": {
      "image/png": "[encoded data removed]",
      "text/plain": [
       "<matplotlib.figure.Figure at 0x7f1f6c9fa9e8>"
      ]
     },
     "metadata": {},
     "output_type": "display_data"
    }
   ],
   "source": [
    "param_grid ={'max_depth': st.randint(6, 11),\n",
    "             'n_estimators': n_tree_range,\n",
    "             'max_features':np.arange(0.5,.81, 0.05),\n",
    "            'max_leaf_nodes':st.randint(6, 10)}\n",
    "\n",
    "model= RandomForestClassifier()\n",
    "\n",
    "grid = RandomizedSearchCV(model,\n",
    "                    param_grid, cv=cv,\n",
    "                    scoring=scoring,\n",
    "                    verbose=1,n_iter=n_iter, random_state=rstate)\n",
    "\n",
    "grid.fit(X_train, y_train)\n",
    "save(grid, \"Random_Forest\")"
   ]
  },
  {
   "cell_type": "code",
   "execution_count": 44,
   "metadata": {},
   "outputs": [
    {
     "data": {
      "image/png": "[encoded data removed]",
      "text/plain": [
       "<matplotlib.figure.Figure at 0x7f1f69081ef0>"
      ]
     },
     "metadata": {},
     "output_type": "display_data"
    }
   ],
   "source": [
    "feature_imp(grid.best_estimator_)"
   ]
  },
  {
   "cell_type": "markdown",
   "metadata": {},
   "source": [
    "### Adaptive Boosting"
   ]
  },
  {
   "cell_type": "code",
   "execution_count": 45,
   "metadata": {},
   "outputs": [
    {
     "data": {
      "text/plain": [
       "dict_keys(['algorithm', 'base_estimator', 'learning_rate', 'n_estimators', 'random_state'])"
      ]
     },
     "execution_count": 45,
     "metadata": {},
     "output_type": "execute_result"
    }
   ],
   "source": [
    "AdaBoostClassifier().get_params().keys()"
   ]
  },
  {
   "cell_type": "code",
   "execution_count": 46,
   "metadata": {},
   "outputs": [
    {
     "name": "stdout",
     "output_type": "stream",
     "text": [
      "Fitting 5 folds for each of 65 candidates, totalling 325 fits\n"
     ]
    },
    {
     "name": "stderr",
     "output_type": "stream",
     "text": [
      "[Parallel(n_jobs=1)]: Done 325 out of 325 | elapsed: 24.9min finished\n"
     ]
    },
    {
     "name": "stdout",
     "output_type": "stream",
     "text": [
      "\n",
      "Evaluation Method: accuracy\n",
      "Optimal Model Parameters: {'learning_rate': 1.6, 'n_estimators': 906}\n",
      "Train CV Accuracy: 0.90 (+/- 0.03) [AdaBoost_Ensemble]\n",
      "Test_Score: 0.91324200913242\n"
     ]
    },
    {
     "data": {
      "image/png": "[encoded data removed]",
      "text/plain": [
       "<matplotlib.figure.Figure at 0x7f1f68e59908>"
      ]
     },
     "metadata": {},
     "output_type": "display_data"
    }
   ],
   "source": [
    "param_grid ={'n_estimators':n_tree_range,\n",
    "            'learning_rate':np.arange(.1, 4, .5)}\n",
    "\n",
    "grid = RandomizedSearchCV(AdaBoostClassifier(),\n",
    "                    param_grid,cv=cv, scoring=scoring,\n",
    "                    verbose=1, n_iter=n_iter, random_state=rstate)\n",
    "\n",
    "grid.fit(X_train, y_train)\n",
    "save(grid, \"AdaBoost_Ensemble\")"
   ]
  },
  {
   "cell_type": "code",
   "execution_count": 47,
   "metadata": {},
   "outputs": [
    {
     "data": {
      "image/png": "[encoded data removed]",
      "text/plain": [
       "<matplotlib.figure.Figure at 0x7f1f68e59cc0>"
      ]
     },
     "metadata": {},
     "output_type": "display_data"
    }
   ],
   "source": [
    "feature_imp(grid.best_estimator_)"
   ]
  },
  {
   "cell_type": "markdown",
   "metadata": {},
   "source": [
    "### Gradient Boosting Classifier"
   ]
  },
  {
   "cell_type": "code",
   "execution_count": 48,
   "metadata": {},
   "outputs": [
    {
     "data": {
      "text/plain": [
       "dict_keys(['criterion', 'init', 'learning_rate', 'loss', 'max_depth', 'max_features', 'max_leaf_nodes', 'min_impurity_decrease', 'min_impurity_split', 'min_samples_leaf', 'min_samples_split', 'min_weight_fraction_leaf', 'n_estimators', 'presort', 'random_state', 'subsample', 'verbose', 'warm_start'])"
      ]
     },
     "execution_count": 48,
     "metadata": {},
     "output_type": "execute_result"
    }
   ],
   "source": [
    "GradientBoostingClassifier().get_params().keys()"
   ]
  },
  {
   "cell_type": "code",
   "execution_count": 49,
   "metadata": {},
   "outputs": [
    {
     "name": "stdout",
     "output_type": "stream",
     "text": [
      "Fitting 5 folds for each of 65 candidates, totalling 325 fits\n"
     ]
    },
    {
     "name": "stderr",
     "output_type": "stream",
     "text": [
      "[Parallel(n_jobs=1)]: Done 325 out of 325 | elapsed:  8.1min finished\n"
     ]
    },
    {
     "name": "stdout",
     "output_type": "stream",
     "text": [
      "\n",
      "Evaluation Method: accuracy\n",
      "Optimal Model Parameters: {'learning_rate': 0.21000000000000002, 'loss': 'deviance', 'max_depth': 3.0, 'n_estimators': 743}\n",
      "Train CV Accuracy: 0.92 (+/- 0.02) [Gradient_Boosting]\n",
      "Test_Score: 0.9406392694063926\n"
     ]
    },
    {
     "data": {
      "image/png": "[encoded data removed]",
      "text/plain": [
       "<matplotlib.figure.Figure at 0x7f1f68ed85f8>"
      ]
     },
     "metadata": {},
     "output_type": "display_data"
    }
   ],
   "source": [
    "param_grid ={'n_estimators': n_tree_range,\n",
    "            'loss': ['deviance', 'exponential'],\n",
    "            'learning_rate':np.arange(0.01, 0.32,.05),\n",
    "            'max_depth': np.arange(2, 4.1, .5)}\n",
    "\n",
    "grid = RandomizedSearchCV(GradientBoostingClassifier(),\n",
    "                    param_grid,cv=cv,\n",
    "                    scoring=scoring,\n",
    "                    verbose=1, n_iter=n_iter, random_state=rstate)\n",
    "\n",
    "grid.fit(X_train, y_train)\n",
    "save(grid, \"Gradient_Boosting\")"
   ]
  },
  {
   "cell_type": "code",
   "execution_count": 50,
   "metadata": {},
   "outputs": [
    {
     "data": {
      "image/png": "[encoded data removed]",
      "text/plain": [
       "<matplotlib.figure.Figure at 0x7f1f68ee3a90>"
      ]
     },
     "metadata": {},
     "output_type": "display_data"
    }
   ],
   "source": [
    "feature_imp(grid.best_estimator_)"
   ]
  },
  {
   "cell_type": "markdown",
   "metadata": {},
   "source": [
    "### XGBoost - eXtreme Gradient Boosting"
   ]
  },
  {
   "cell_type": "code",
   "execution_count": 51,
   "metadata": {},
   "outputs": [
    {
     "data": {
      "text/plain": [
       "dict_keys(['base_score', 'colsample_bylevel', 'colsample_bytree', 'gamma', 'learning_rate', 'max_delta_step', 'max_depth', 'min_child_weight', 'missing', 'n_estimators', 'nthread', 'objective', 'reg_alpha', 'reg_lambda', 'scale_pos_weight', 'seed', 'silent', 'subsample'])"
      ]
     },
     "execution_count": 51,
     "metadata": {},
     "output_type": "execute_result"
    }
   ],
   "source": [
    "XGBClassifier().get_params().keys()"
   ]
  },
  {
   "cell_type": "code",
   "execution_count": 59,
   "metadata": {},
   "outputs": [
    {
     "name": "stdout",
     "output_type": "stream",
     "text": [
      "Fitting 3 folds for each of 65 candidates, totalling 195 fits\n"
     ]
    },
    {
     "name": "stderr",
     "output_type": "stream",
     "text": [
      "[Parallel(n_jobs=1)]: Done 195 out of 195 | elapsed:  3.0min finished\n"
     ]
    },
    {
     "name": "stdout",
     "output_type": "stream",
     "text": [
      "\n",
      "Evaluation Method: accuracy\n",
      "Optimal Model Parameters: {'colsample_bytree': 0.9617321414281065, 'gamma': 1.1896248875959816, 'learning_rate': 0.01, 'max_depth': 7, 'n_estimators': 1129, 'reg_alpha': 0, 'subsample': 0.9357884801168189}\n",
      "Train CV Accuracy: 0.92 (+/- 0.03) [Sci_kit XGB]\n",
      "Test_Score: 0.958904109589041\n"
     ]
    },
    {
     "data": {
      "image/png": "[encoded data removed]",
      "text/plain": [
       "<matplotlib.figure.Figure at 0x7f1f68ca1780>"
      ]
     },
     "metadata": {},
     "output_type": "display_data"
    }
   ],
   "source": [
    "one_to_left = st.beta(10, 1)  \n",
    "from_zero_positive = st.expon(0, 50)\n",
    "\n",
    "params = {  \n",
    "    \"n_estimators\": n_tree_range,\n",
    "    \"max_depth\": st.randint(2, 8),\n",
    "    \"learning_rate\": [0.01],\n",
    "    #'max_features':'sqrt',\n",
    "    #\"learning_rate\": st.uniform(0.001, 0.1),\n",
    "    \"colsample_bytree\": one_to_left,\n",
    "    \"subsample\": one_to_left,\n",
    "    \"gamma\": st.uniform(0, 3),\n",
    "    #'reg_alpha': from_zero_positive,\n",
    "    #\"min_child_weight\": from_zero_positive,\n",
    "    'reg_alpha':[0, 0.001, 0.005, 0.01, 0.05]\n",
    "}\n",
    "\n",
    "xgbreg = XGBClassifier(objective= 'binary:logistic')\n",
    "\n",
    "grid = RandomizedSearchCV(xgbreg, params, n_jobs=1, verbose=1, n_iter=n_iter,\n",
    "                          random_state=rstate, scoring=scoring)  \n",
    "grid.fit(X_train,y_train, verbose=False)\n",
    "save(grid, \"Sci_kit XGB\")"
   ]
  },
  {
   "cell_type": "code",
   "execution_count": 60,
   "metadata": {},
   "outputs": [
    {
     "data": {
      "image/png": "[encoded data removed]",
      "text/plain": [
       "<matplotlib.figure.Figure at 0x7f1f68bb1c50>"
      ]
     },
     "metadata": {},
     "output_type": "display_data"
    }
   ],
   "source": [
    "feature_imp(grid.best_estimator_)"
   ]
  },
  {
   "cell_type": "code",
   "execution_count": 63,
   "metadata": {},
   "outputs": [
    {
     "name": "stdout",
     "output_type": "stream",
     "text": [
      "XGBClassifier(base_score=0.5, colsample_bylevel=1, colsample_bytree=1,\n",
      "       gamma=0, learning_rate=0.01, max_delta_step=0, max_depth=3,\n",
      "       min_child_weight=1, missing=None, n_estimators=1000, nthread=-1,\n",
      "       objective='binary:logistic', reg_alpha=0, reg_lambda=1,\n",
      "       scale_pos_weight=1, seed=0, silent=True, subsample=1)\n",
      "\n",
      "xgBoost - CV Train : 0.92\n",
      "xgBoost - Train : 0.90\n",
      "xgBoost - Test : 0.90\n"
     ]
    }
   ],
   "source": [
    "model = XGBClassifier(n_estimators = num_rounds,\n",
    "                        objective= 'binary:logistic',\n",
    "                     learning_rate=0.01)\n",
    "\n",
    "# use early_stopping_rounds to stop the cv when there is no score imporovement\n",
    "model.fit(X_train,y_train, early_stopping_rounds=20, eval_set=[(X_test,\n",
    "y_test)], verbose=False)\n",
    "score = cross_val_score(model, X_train,y_train, cv=cv)\n",
    "print(model)\n",
    "print(\"\\nxgBoost - CV Train : %.2f\" % score.mean())\n",
    "print(\"xgBoost - Train : %.2f\" % metrics.accuracy_score(model.predict(X_train), y_train))\n",
    "print(\"xgBoost - Test : %.2f\" % metrics.accuracy_score(model.predict(X_test), y_test))\n",
    "#norm_save(model,score, \"XGBsklearn\")"
   ]
  },
  {
   "cell_type": "markdown",
   "metadata": {},
   "source": [
    "### XGBoost Package Implementation"
   ]
  },
  {
   "cell_type": "code",
   "execution_count": 64,
   "metadata": {},
   "outputs": [
    {
     "name": "stdout",
     "output_type": "stream",
     "text": [
      "Optimal number of trees/estimators is 43\n",
      "[0]\ttest-error:0.141553\ttrain-error:0.116142\n",
      "[1]\ttest-error:0.09589\ttrain-error:0.07874\n",
      "[2]\ttest-error:0.077626\ttrain-error:0.084646\n",
      "[3]\ttest-error:0.082192\ttrain-error:0.082677\n",
      "[4]\ttest-error:0.086758\ttrain-error:0.076772\n",
      "[5]\ttest-error:0.100457\ttrain-error:0.086614\n",
      "[6]\ttest-error:0.063927\ttrain-error:0.066929\n",
      "[7]\ttest-error:0.077626\ttrain-error:0.07874\n",
      "[8]\ttest-error:0.063927\ttrain-error:0.062992\n",
      "[9]\ttest-error:0.063927\ttrain-error:0.062992\n",
      "[10]\ttest-error:0.059361\ttrain-error:0.062992\n",
      "[11]\ttest-error:0.059361\ttrain-error:0.066929\n",
      "[12]\ttest-error:0.050228\ttrain-error:0.064961\n",
      "[13]\ttest-error:0.045662\ttrain-error:0.061024\n",
      "[14]\ttest-error:0.050228\ttrain-error:0.055118\n",
      "[15]\ttest-error:0.050228\ttrain-error:0.061024\n",
      "[16]\ttest-error:0.054795\ttrain-error:0.041339\n",
      "[17]\ttest-error:0.054795\ttrain-error:0.043307\n",
      "[18]\ttest-error:0.054795\ttrain-error:0.043307\n",
      "[19]\ttest-error:0.045662\ttrain-error:0.041339\n",
      "[20]\ttest-error:0.054795\ttrain-error:0.03937\n",
      "[21]\ttest-error:0.059361\ttrain-error:0.03937\n",
      "[22]\ttest-error:0.054795\ttrain-error:0.041339\n",
      "[23]\ttest-error:0.054795\ttrain-error:0.031496\n",
      "[24]\ttest-error:0.054795\ttrain-error:0.029528\n",
      "[25]\ttest-error:0.059361\ttrain-error:0.035433\n",
      "[26]\ttest-error:0.050228\ttrain-error:0.029528\n",
      "[27]\ttest-error:0.050228\ttrain-error:0.027559\n",
      "[28]\ttest-error:0.050228\ttrain-error:0.023622\n",
      "[29]\ttest-error:0.050228\ttrain-error:0.023622\n",
      "[30]\ttest-error:0.050228\ttrain-error:0.023622\n",
      "[31]\ttest-error:0.050228\ttrain-error:0.023622\n",
      "[32]\ttest-error:0.050228\ttrain-error:0.023622\n",
      "[33]\ttest-error:0.050228\ttrain-error:0.023622\n",
      "[34]\ttest-error:0.059361\ttrain-error:0.019685\n",
      "[35]\ttest-error:0.059361\ttrain-error:0.015748\n",
      "[36]\ttest-error:0.050228\ttrain-error:0.015748\n",
      "[37]\ttest-error:0.054795\ttrain-error:0.015748\n",
      "[38]\ttest-error:0.054795\ttrain-error:0.015748\n",
      "[39]\ttest-error:0.054795\ttrain-error:0.015748\n",
      "[40]\ttest-error:0.050228\ttrain-error:0.015748\n",
      "[41]\ttest-error:0.050228\ttrain-error:0.015748\n",
      "[42]\ttest-error:0.054795\ttrain-error:0.011811\n",
      "\n",
      "XGB - CV Train : 0.95\n",
      "XGB - Train : 0.98\n"
     ]
    }
   ],
   "source": [
    "xgtrain = xgb.DMatrix(X_train, label=y_train)\n",
    "xgtest = xgb.DMatrix(X_test, label=y_test)\n",
    "\n",
    "# set xgboost params\n",
    "param = {'max_depth': 3,  # the maximum depth of each tree\n",
    "         'objective': 'binary:logistic'}\n",
    "\n",
    "clf_xgb_cv = xgb.cv(param, xgtrain, num_rounds, \n",
    "                    stratified=True, \n",
    "                    nfold=n_splits, \n",
    "                    early_stopping_rounds=20)\n",
    "print(\"Optimal number of trees/estimators is %i\" % clf_xgb_cv.shape[0])\n",
    "\n",
    "watchlist  = [(xgtest,'test'), (xgtrain,'train')]                \n",
    "clf_xgb = xgb.train(param, xgtrain,clf_xgb_cv.shape[0], watchlist)\n",
    "\n",
    "# predict function will produce the probability \n",
    "# so we'll use 0.5 cutoff to convert probability to class label\n",
    "y_train_pred = (clf_xgb.predict(xgtrain, ntree_limit=clf_xgb.best_iteration) > 0.5).astype(int)\n",
    "y_test_pred = (clf_xgb.predict(xgtest, ntree_limit=clf_xgb.best_iteration) > 0.5).astype(int)\n",
    "score= metrics.accuracy_score(y_test_pred, y_test)\n",
    "print(\"\\nXGB - CV Train : %.2f\" % score)\n",
    "print(\"XGB - Train : %.2f\" % metrics.accuracy_score(y_train_pred, y_train))\n",
    "#norm_save(model,score, \"XGBstandard\")"
   ]
  },
  {
   "cell_type": "markdown",
   "metadata": {},
   "source": [
    "### Logistic Regression"
   ]
  },
  {
   "cell_type": "code",
   "execution_count": 65,
   "metadata": {
    "collapsed": true
   },
   "outputs": [],
   "source": [
    "model= LogisticRegression()\n",
    "score = cross_val_score(model, X_train, y_train, cv=cv, scoring='accuracy')\n",
    "#norm_save(LogisticRegression(),score, \"Logistic_Regression\")"
   ]
  },
  {
   "cell_type": "code",
   "execution_count": 68,
   "metadata": {},
   "outputs": [
    {
     "name": "stdout",
     "output_type": "stream",
     "text": [
      "Optimization terminated successfully.\n",
      "         Current function value: 0.464397\n",
      "         Iterations 8\n"
     ]
    },
    {
     "data": {
      "text/html": [
       "<table class=\"simpletable\">\n",
       "<caption>Logit Regression Results</caption>\n",
       "<tr>\n",
       "  <th>Dep. Variable:</th>      <td>Target</td>      <th>  No. Observations:  </th>  <td>   727</td>  \n",
       "</tr>\n",
       "<tr>\n",
       "  <th>Model:</th>               <td>Logit</td>      <th>  Df Residuals:      </th>  <td>   722</td>  \n",
       "</tr>\n",
       "<tr>\n",
       "  <th>Method:</th>               <td>MLE</td>       <th>  Df Model:          </th>  <td>     4</td>  \n",
       "</tr>\n",
       "<tr>\n",
       "  <th>Date:</th>          <td>Thu, 15 Feb 2018</td> <th>  Pseudo R-squ.:     </th>  <td>0.1246</td>  \n",
       "</tr>\n",
       "<tr>\n",
       "  <th>Time:</th>              <td>19:18:30</td>     <th>  Log-Likelihood:    </th> <td> -337.62</td> \n",
       "</tr>\n",
       "<tr>\n",
       "  <th>converged:</th>           <td>True</td>       <th>  LL-Null:           </th> <td> -385.65</td> \n",
       "</tr>\n",
       "<tr>\n",
       "  <th> </th>                      <td> </td>        <th>  LLR p-value:       </th> <td>6.741e-20</td>\n",
       "</tr>\n",
       "</table>\n",
       "<table class=\"simpletable\">\n",
       "<tr>\n",
       "  <td></td>     <th>coef</th>     <th>std err</th>      <th>z</th>      <th>P>|z|</th>  <th>[0.025</th>    <th>0.975]</th>  \n",
       "</tr>\n",
       "<tr>\n",
       "  <th>0</th> <td>-9.086e-06</td> <td> 1.76e-06</td> <td>   -5.154</td> <td> 0.000</td> <td>-1.25e-05</td> <td>-5.63e-06</td>\n",
       "</tr>\n",
       "<tr>\n",
       "  <th>1</th> <td>-1.255e-05</td> <td>  2.1e-06</td> <td>   -5.972</td> <td> 0.000</td> <td>-1.67e-05</td> <td>-8.43e-06</td>\n",
       "</tr>\n",
       "<tr>\n",
       "  <th>2</th> <td>-2.021e-05</td> <td> 3.59e-06</td> <td>   -5.637</td> <td> 0.000</td> <td>-2.72e-05</td> <td>-1.32e-05</td>\n",
       "</tr>\n",
       "<tr>\n",
       "  <th>3</th> <td>-2.499e-05</td> <td> 5.78e-06</td> <td>   -4.327</td> <td> 0.000</td> <td>-3.63e-05</td> <td>-1.37e-05</td>\n",
       "</tr>\n",
       "<tr>\n",
       "  <th>4</th> <td>    0.0002</td> <td> 2.34e-05</td> <td>    9.227</td> <td> 0.000</td> <td>    0.000</td> <td>    0.000</td>\n",
       "</tr>\n",
       "</table>"
      ],
      "text/plain": [
       "<class 'statsmodels.iolib.summary.Summary'>\n",
       "\"\"\"\n",
       "                           Logit Regression Results                           \n",
       "==============================================================================\n",
       "Dep. Variable:                 Target   No. Observations:                  727\n",
       "Model:                          Logit   Df Residuals:                      722\n",
       "Method:                           MLE   Df Model:                            4\n",
       "Date:                Thu, 15 Feb 2018   Pseudo R-squ.:                  0.1246\n",
       "Time:                        19:18:30   Log-Likelihood:                -337.62\n",
       "converged:                       True   LL-Null:                       -385.65\n",
       "                                        LLR p-value:                 6.741e-20\n",
       "==============================================================================\n",
       "                 coef    std err          z      P>|z|      [0.025      0.975]\n",
       "------------------------------------------------------------------------------\n",
       "0          -9.086e-06   1.76e-06     -5.154      0.000   -1.25e-05   -5.63e-06\n",
       "1          -1.255e-05    2.1e-06     -5.972      0.000   -1.67e-05   -8.43e-06\n",
       "2          -2.021e-05   3.59e-06     -5.637      0.000   -2.72e-05   -1.32e-05\n",
       "3          -2.499e-05   5.78e-06     -4.327      0.000   -3.63e-05   -1.37e-05\n",
       "4              0.0002   2.34e-05      9.227      0.000       0.000       0.000\n",
       "==============================================================================\n",
       "\"\"\""
      ]
     },
     "execution_count": 68,
     "metadata": {},
     "output_type": "execute_result"
    }
   ],
   "source": [
    "from scipy import stats\n",
    "import statsmodels.api as sm\n",
    "\n",
    "stats.chisqprob = lambda chisq, df: stats.chi2.sf(chisq, df)\n",
    "\n",
    "logit = sm.Logit(y, X) # fit the model\n",
    "result = logit.fit()\n",
    "result.summary()"
   ]
  },
  {
   "cell_type": "markdown",
   "metadata": {},
   "source": [
    "### Feedforward Neural Networks"
   ]
  },
  {
   "cell_type": "code",
   "execution_count": 69,
   "metadata": {},
   "outputs": [
    {
     "data": {
      "text/plain": [
       "dict_keys(['activation', 'alpha', 'batch_size', 'beta_1', 'beta_2', 'early_stopping', 'epsilon', 'hidden_layer_sizes', 'learning_rate', 'learning_rate_init', 'max_iter', 'momentum', 'nesterovs_momentum', 'power_t', 'random_state', 'shuffle', 'solver', 'tol', 'validation_fraction', 'verbose', 'warm_start'])"
      ]
     },
     "execution_count": 69,
     "metadata": {},
     "output_type": "execute_result"
    }
   ],
   "source": [
    "MLPClassifier().get_params().keys()"
   ]
  },
  {
   "cell_type": "code",
   "execution_count": 70,
   "metadata": {},
   "outputs": [
    {
     "name": "stdout",
     "output_type": "stream",
     "text": [
      "Fitting 5 folds for each of 65 candidates, totalling 325 fits\n"
     ]
    },
    {
     "name": "stderr",
     "output_type": "stream",
     "text": [
      "[Parallel(n_jobs=1)]: Done 325 out of 325 | elapsed:   52.2s finished\n"
     ]
    },
    {
     "name": "stdout",
     "output_type": "stream",
     "text": [
      "\n",
      "Evaluation Method: accuracy\n",
      "Optimal Model Parameters: {'max_iter': 10, 'learning_rate': 'adaptive', 'hidden_layer_sizes': 1000, 'early_stopping': True, 'alpha': 464, 'activation': 'relu'}\n",
      "Train CV Accuracy: 0.85 (+/- 0.03) [FFNeural_Net]\n",
      "Test_Score: 0.9452054794520548\n"
     ]
    },
    {
     "data": {
      "image/png": "[encoded data removed]",
      "text/plain": [
       "<matplotlib.figure.Figure at 0x7f1f68bb1550>"
      ]
     },
     "metadata": {},
     "output_type": "display_data"
    }
   ],
   "source": [
    "# Start with a RandomSearchCV to efficiently Narrow the Ballpark\n",
    "param_grid ={'max_iter': np.logspace(1, 5, 10).astype(\"int32\"),\n",
    "             'hidden_layer_sizes': np.logspace(2, 3, 4).astype(\"int32\"),\n",
    "             'activation':['identity', 'logistic', 'tanh', 'relu'],\n",
    "             'learning_rate': ['adaptive'],\n",
    "             'early_stopping': [True],\n",
    "             'alpha': np.logspace(2, 3, 4).astype(\"int32\")\n",
    "            }\n",
    "\n",
    "model = MLPClassifier()\n",
    "grid = RandomizedSearchCV(model,\n",
    "                    param_grid, cv=cv, scoring=scoring,\n",
    "                    verbose=1, n_iter=n_iter, random_state=rstate)\n",
    "\n",
    "grid.fit(X_train, y_train)\n",
    "save(grid, \"FFNeural_Net\")"
   ]
  },
  {
   "cell_type": "markdown",
   "metadata": {},
   "source": [
    "### Support Vector Classifier"
   ]
  },
  {
   "cell_type": "code",
   "execution_count": 71,
   "metadata": {},
   "outputs": [
    {
     "data": {
      "text/plain": [
       "dict_keys(['C', 'class_weight', 'dual', 'fit_intercept', 'intercept_scaling', 'loss', 'max_iter', 'multi_class', 'penalty', 'random_state', 'tol', 'verbose'])"
      ]
     },
     "execution_count": 71,
     "metadata": {},
     "output_type": "execute_result"
    }
   ],
   "source": [
    "LinearSVC().get_params().keys()"
   ]
  },
  {
   "cell_type": "code",
   "execution_count": 73,
   "metadata": {},
   "outputs": [],
   "source": [
    "# Define Model\n",
    "model = LinearSVC()\n",
    "\n",
    "#Fit Model\n",
    "scores= cross_val_score(model, X_train, y_train, cv=cv, scoring=scoring)\n",
    "#norm_save(model, scores, \"LinearSV\")"
   ]
  },
  {
   "cell_type": "markdown",
   "metadata": {},
   "source": [
    "### Radial Basis Function (RBF)"
   ]
  },
  {
   "cell_type": "code",
   "execution_count": 74,
   "metadata": {},
   "outputs": [
    {
     "data": {
      "text/plain": [
       "dict_keys(['C', 'cache_size', 'class_weight', 'coef0', 'decision_function_shape', 'degree', 'gamma', 'kernel', 'max_iter', 'probability', 'random_state', 'shrinking', 'tol', 'verbose'])"
      ]
     },
     "execution_count": 74,
     "metadata": {},
     "output_type": "execute_result"
    }
   ],
   "source": [
    "SVC().get_params().keys()"
   ]
  },
  {
   "cell_type": "code",
   "execution_count": 75,
   "metadata": {},
   "outputs": [
    {
     "name": "stdout",
     "output_type": "stream",
     "text": [
      "Fitting 5 folds for each of 65 candidates, totalling 325 fits\n"
     ]
    },
    {
     "name": "stderr",
     "output_type": "stream",
     "text": [
      "[Parallel(n_jobs=1)]: Done 325 out of 325 | elapsed:  1.2min finished\n"
     ]
    },
    {
     "name": "stdout",
     "output_type": "stream",
     "text": [
      "\n",
      "Evaluation Method: accuracy\n",
      "Optimal Model Parameters: {'svc__C': 5680, 'svc__gamma': 1e-07}\n",
      "Train CV Accuracy: 0.80 (+/- 0.02) [SVCrbf]\n",
      "Test_Score: 0.7899543378995434\n"
     ]
    },
    {
     "data": {
      "image/png": "[encoded data removed]",
      "text/plain": [
       "<matplotlib.figure.Figure at 0x7f1f5eb96e48>"
      ]
     },
     "metadata": {},
     "output_type": "display_data"
    }
   ],
   "source": [
    "svc = SVC(kernel= 'rbf', probability=True)\n",
    "\n",
    "model = Pipeline(steps=[('svc', svc)])\n",
    "\n",
    "\n",
    "param_grid = {'svc__C': st.randint(1,10000),\n",
    "              'svc__gamma': np.logspace(1, -7, 10)}\n",
    "\n",
    "grid = RandomizedSearchCV(model, param_grid,\n",
    "                          cv=cv, verbose=1, scoring=scoring,\n",
    "                         n_iter=n_iter, random_state=rstate)\n",
    "\n",
    "grid.fit(X_train, y_train)\n",
    "save(grid, \"SVCrbf\")"
   ]
  },
  {
   "cell_type": "markdown",
   "metadata": {},
   "source": [
    "### Pipeline and Principal Components Analysis and Support Vector Classifier"
   ]
  },
  {
   "cell_type": "code",
   "execution_count": 76,
   "metadata": {},
   "outputs": [
    {
     "name": "stdout",
     "output_type": "stream",
     "text": [
      "Fitting 5 folds for each of 65 candidates, totalling 325 fits\n"
     ]
    },
    {
     "name": "stderr",
     "output_type": "stream",
     "text": [
      "[Parallel(n_jobs=1)]: Done 325 out of 325 | elapsed:  1.9min finished\n"
     ]
    },
    {
     "name": "stdout",
     "output_type": "stream",
     "text": [
      "\n",
      "Evaluation Method: accuracy\n",
      "Optimal Model Parameters: {'pca__n_components': 4, 'svc__C': 4401, 'svc__gamma': 1e-07}\n",
      "Train CV Accuracy: 0.80 (+/- 0.02) [PCA_SVC]\n",
      "Test_Score: 0.7990867579908676\n"
     ]
    },
    {
     "data": {
      "image/png": "[encoded data removed]",
      "text/plain": [
       "<matplotlib.figure.Figure at 0x7f1f5ead5c18>"
      ]
     },
     "metadata": {},
     "output_type": "display_data"
    }
   ],
   "source": [
    "pca = PCA()\n",
    "svc = SVC(kernel= 'rbf',probability=True)\n",
    "\n",
    "model = Pipeline(steps=[('pca',pca),\n",
    "                        ('svc', svc)])\n",
    "\n",
    "\n",
    "param_grid = {'svc__C': st.randint(1,10000),\n",
    "              'svc__gamma': np.logspace(1, -7, 10),\n",
    "             'pca__n_components': st.randint(1,len(X.columns))}\n",
    "\n",
    "grid = RandomizedSearchCV(model, param_grid,\n",
    "                          cv=cv, verbose=1,\n",
    "                         n_iter=n_iter, random_state=rstate, scoring=scoring)\n",
    "\n",
    "grid.fit(X_train, y_train)\n",
    "save(grid, \"PCA_SVC\")"
   ]
  },
  {
   "cell_type": "markdown",
   "metadata": {},
   "source": [
    "# Parametric Generative Classification"
   ]
  },
  {
   "cell_type": "markdown",
   "metadata": {},
   "source": [
    "### Gaussian Naive Bayes"
   ]
  },
  {
   "cell_type": "code",
   "execution_count": 77,
   "metadata": {
    "collapsed": true
   },
   "outputs": [],
   "source": [
    "model = GaussianNB()\n",
    "\n",
    "score = cross_val_score(model, X_train, y_train, cv=cv, scoring=scoring)\n",
    "#norm_save(model,score, \"Gaussian\")"
   ]
  },
  {
   "cell_type": "code",
   "execution_count": 78,
   "metadata": {},
   "outputs": [
    {
     "data": {
      "text/html": [
       "<div>\n",
       "<style>\n",
       "    .dataframe thead tr:only-child th {\n",
       "        text-align: right;\n",
       "    }\n",
       "\n",
       "    .dataframe thead th {\n",
       "        text-align: left;\n",
       "    }\n",
       "\n",
       "    .dataframe tbody tr th {\n",
       "        vertical-align: top;\n",
       "    }\n",
       "</style>\n",
       "<table border=\"1\" class=\"dataframe\">\n",
       "  <thead>\n",
       "    <tr style=\"text-align: right;\">\n",
       "      <th></th>\n",
       "      <th>Model</th>\n",
       "      <th>Para</th>\n",
       "      <th>Test_Score</th>\n",
       "      <th>CV Mean</th>\n",
       "      <th>CV STDEV</th>\n",
       "    </tr>\n",
       "  </thead>\n",
       "  <tbody>\n",
       "    <tr>\n",
       "      <th>0</th>\n",
       "      <td>KNN</td>\n",
       "      <td>{'n_neighbors': 5, 'weights': 'distance'}</td>\n",
       "      <td>0.931507</td>\n",
       "      <td>0.929159</td>\n",
       "      <td>0.016818</td>\n",
       "    </tr>\n",
       "    <tr>\n",
       "      <th>2</th>\n",
       "      <td>Bagger_ensemble</td>\n",
       "      <td>{'n_estimators': 1148}</td>\n",
       "      <td>0.936073</td>\n",
       "      <td>0.921180</td>\n",
       "      <td>0.025248</td>\n",
       "    </tr>\n",
       "    <tr>\n",
       "      <th>5</th>\n",
       "      <td>Gradient_Boosting</td>\n",
       "      <td>{'learning_rate': 0.21000000000000002, 'loss':...</td>\n",
       "      <td>0.940639</td>\n",
       "      <td>0.917298</td>\n",
       "      <td>0.020463</td>\n",
       "    </tr>\n",
       "    <tr>\n",
       "      <th>6</th>\n",
       "      <td>Sci_kit XGB</td>\n",
       "      <td>{'colsample_bytree': 0.9617321414281065, 'gamm...</td>\n",
       "      <td>0.958904</td>\n",
       "      <td>0.915259</td>\n",
       "      <td>0.025723</td>\n",
       "    </tr>\n",
       "    <tr>\n",
       "      <th>7</th>\n",
       "      <td>Sci_kit XGB</td>\n",
       "      <td>{'colsample_bytree': 0.9617321414281065, 'gamm...</td>\n",
       "      <td>0.958904</td>\n",
       "      <td>0.915259</td>\n",
       "      <td>0.025723</td>\n",
       "    </tr>\n",
       "    <tr>\n",
       "      <th>4</th>\n",
       "      <td>AdaBoost_Ensemble</td>\n",
       "      <td>{'learning_rate': 1.6, 'n_estimators': 906}</td>\n",
       "      <td>0.913242</td>\n",
       "      <td>0.901495</td>\n",
       "      <td>0.029518</td>\n",
       "    </tr>\n",
       "    <tr>\n",
       "      <th>3</th>\n",
       "      <td>Random_Forest</td>\n",
       "      <td>{'max_depth': 7, 'max_features': 0.80000000000...</td>\n",
       "      <td>0.931507</td>\n",
       "      <td>0.899515</td>\n",
       "      <td>0.023220</td>\n",
       "    </tr>\n",
       "    <tr>\n",
       "      <th>8</th>\n",
       "      <td>FFNeural_Net</td>\n",
       "      <td>{'max_iter': 10, 'learning_rate': 'adaptive', ...</td>\n",
       "      <td>0.945205</td>\n",
       "      <td>0.854184</td>\n",
       "      <td>0.034423</td>\n",
       "    </tr>\n",
       "    <tr>\n",
       "      <th>9</th>\n",
       "      <td>SVCrbf</td>\n",
       "      <td>{'svc__C': 5680, 'svc__gamma': 1e-07}</td>\n",
       "      <td>0.789954</td>\n",
       "      <td>0.799204</td>\n",
       "      <td>0.016062</td>\n",
       "    </tr>\n",
       "    <tr>\n",
       "      <th>10</th>\n",
       "      <td>PCA_SVC</td>\n",
       "      <td>{'pca__n_components': 4, 'svc__C': 4401, 'svc_...</td>\n",
       "      <td>0.799087</td>\n",
       "      <td>0.799204</td>\n",
       "      <td>0.016062</td>\n",
       "    </tr>\n",
       "    <tr>\n",
       "      <th>1</th>\n",
       "      <td>StochasticGradientDescent</td>\n",
       "      <td>{'loss': 'modified_huber'}</td>\n",
       "      <td>0.652968</td>\n",
       "      <td>0.773384</td>\n",
       "      <td>0.064436</td>\n",
       "    </tr>\n",
       "  </tbody>\n",
       "</table>\n",
       "</div>"
      ],
      "text/plain": [
       "                        Model  \\\n",
       "0                         KNN   \n",
       "2             Bagger_ensemble   \n",
       "5           Gradient_Boosting   \n",
       "6                 Sci_kit XGB   \n",
       "7                 Sci_kit XGB   \n",
       "4           AdaBoost_Ensemble   \n",
       "3               Random_Forest   \n",
       "8                FFNeural_Net   \n",
       "9                      SVCrbf   \n",
       "10                    PCA_SVC   \n",
       "1   StochasticGradientDescent   \n",
       "\n",
       "                                                 Para  Test_Score   CV Mean  \\\n",
       "0           {'n_neighbors': 5, 'weights': 'distance'}    0.931507  0.929159   \n",
       "2                              {'n_estimators': 1148}    0.936073  0.921180   \n",
       "5   {'learning_rate': 0.21000000000000002, 'loss':...    0.940639  0.917298   \n",
       "6   {'colsample_bytree': 0.9617321414281065, 'gamm...    0.958904  0.915259   \n",
       "7   {'colsample_bytree': 0.9617321414281065, 'gamm...    0.958904  0.915259   \n",
       "4         {'learning_rate': 1.6, 'n_estimators': 906}    0.913242  0.901495   \n",
       "3   {'max_depth': 7, 'max_features': 0.80000000000...    0.931507  0.899515   \n",
       "8   {'max_iter': 10, 'learning_rate': 'adaptive', ...    0.945205  0.854184   \n",
       "9               {'svc__C': 5680, 'svc__gamma': 1e-07}    0.789954  0.799204   \n",
       "10  {'pca__n_components': 4, 'svc__C': 4401, 'svc_...    0.799087  0.799204   \n",
       "1                          {'loss': 'modified_huber'}    0.652968  0.773384   \n",
       "\n",
       "    CV STDEV  \n",
       "0   0.016818  \n",
       "2   0.025248  \n",
       "5   0.020463  \n",
       "6   0.025723  \n",
       "7   0.025723  \n",
       "4   0.029518  \n",
       "3   0.023220  \n",
       "8   0.034423  \n",
       "9   0.016062  \n",
       "10  0.016062  \n",
       "1   0.064436  "
      ]
     },
     "execution_count": 78,
     "metadata": {},
     "output_type": "execute_result"
    }
   ],
   "source": [
    "results = results.sort_values(by=[\"CV Mean\"], ascending=False)\n",
    "results"
   ]
  },
  {
   "cell_type": "markdown",
   "metadata": {},
   "source": [
    "# Classification Voting: Model Ensemble"
   ]
  },
  {
   "cell_type": "code",
   "execution_count": 79,
   "metadata": {
    "collapsed": true
   },
   "outputs": [],
   "source": [
    "### Ensemble Voting\n",
    "not_proba_list = ('LinearSV','StochasticGradientDescent')\n",
    "not_proba =  results.query(\"Model in @not_proba_list\")\n",
    "hard_models = results # All Can Be\n",
    "prob_models = results.query(\"Model not in @not_proba_list\") # Not All\n",
    "# [x for x in results.Model if x not in not_proba_list]\n",
    "\n",
    "# Submission DataFrame for correlation purposes\n",
    "# Hard Output\n",
    "test_hard_pred_matrix = pd.DataFrame()\n",
    "train_hard_pred_matrix = pd.DataFrame()\n",
    "\n",
    "#Soft Output\n",
    "test_soft_pred_matrix = pd.DataFrame()\n",
    "train_soft_pred_matrix = pd.DataFrame()"
   ]
  },
  {
   "cell_type": "code",
   "execution_count": 81,
   "metadata": {},
   "outputs": [
    {
     "name": "stdout",
     "output_type": "stream",
     "text": [
      "5-fold cross validation:\n",
      "\n",
      "Train CV Accuracy: 0.67 (+/- 0.09) [StochasticGradientDescent]\n",
      "Test Accuracy: 0.61 \n",
      "\n"
     ]
    }
   ],
   "source": [
    "# None Probabilistic\n",
    "models = list(zip([ensemble_models[x] for x in not_proba.Model],\n",
    "                  not_proba.Model))\n",
    "clfs = []\n",
    "print('5-fold cross validation:\\n')\n",
    "for clf, label in models:\n",
    "    scores = cross_val_score(clf, X_train, y_train, cv=cv, scoring=scoring, verbose=0)\n",
    "    print(\"Train CV Accuracy: %0.2f (+/- %0.2f) [%s]\" % (scores.mean(), scores.std(), label))\n",
    "    md = clf.fit(X_train, y_train)    \n",
    "    clfs.append(md)\n",
    "    print(\"Test Accuracy: %0.2f \\n\" % (metrics.accuracy_score(clf.predict(X_test), y_test)))\n",
    "    \n",
    "    # Model on Full Data\n",
    "    md = clf.fit(X,y)\n",
    "    #submission = md.predict(test_df)\n",
    "    #df = pd.DataFrame({'Company.Name':test_df.index, \n",
    "    #                     'Target':submission})\n",
    "    train_hard_pred_matrix = pd.concat((train_hard_pred_matrix, pd.DataFrame({label: md.predict(X)})), axis=1)\n",
    "    #test_hard_pred_matrix = pd.concat((test_hard_pred_matrix, pd.DataFrame({label: submission})), axis=1)\n",
    "    df.to_csv(\"{}.csv\".format(label),header=True,index=False)\n",
    "\n",
    "del clfs"
   ]
  },
  {
   "cell_type": "code",
   "execution_count": 82,
   "metadata": {},
   "outputs": [
    {
     "name": "stdout",
     "output_type": "stream",
     "text": [
      "5-fold cross validation:\n",
      "\n",
      "Train CV Accuracy: 0.93 (+/- 0.02) [KNN]\n",
      "ROC AUC: 0.95\n",
      "Test Accuracy: 0.93 \n",
      "\n",
      "Train CV Accuracy: 0.92 (+/- 0.02) [Bagger_ensemble]\n",
      "ROC AUC: 0.95\n",
      "Test Accuracy: 0.94 \n",
      "\n",
      "Train CV Accuracy: 0.92 (+/- 0.02) [Gradient_Boosting]\n",
      "ROC AUC: 0.94\n",
      "Test Accuracy: 0.94 \n",
      "\n",
      "Train CV Accuracy: 0.92 (+/- 0.03) [Sci_kit XGB]\n",
      "ROC AUC: 0.95\n",
      "Test Accuracy: 0.96 \n",
      "\n",
      "Train CV Accuracy: 0.92 (+/- 0.03) [Sci_kit XGB]\n",
      "ROC AUC: 0.95\n",
      "Test Accuracy: 0.96 \n",
      "\n",
      "Train CV Accuracy: 0.90 (+/- 0.03) [AdaBoost_Ensemble]\n",
      "ROC AUC: 0.93\n",
      "Test Accuracy: 0.91 \n",
      "\n",
      "Train CV Accuracy: 0.90 (+/- 0.02) [Random_Forest]\n",
      "ROC AUC: 0.95\n",
      "Test Accuracy: 0.93 \n",
      "\n",
      "Train CV Accuracy: 0.88 (+/- 0.02) [FFNeural_Net]\n",
      "ROC AUC: 0.91\n",
      "Test Accuracy: 0.89 \n",
      "\n",
      "Train CV Accuracy: 0.80 (+/- 0.02) [SVCrbf]\n",
      "ROC AUC: 0.82\n",
      "Test Accuracy: 0.79 \n",
      "\n",
      "Train CV Accuracy: 0.80 (+/- 0.02) [PCA_SVC]\n",
      "ROC AUC: 0.72\n",
      "Test Accuracy: 0.80 \n",
      "\n"
     ]
    },
    {
     "data": {
      "image/png": "[encoded data removed]",
      "text/plain": [
       "<matplotlib.figure.Figure at 0x7f1f5eb51a58>"
      ]
     },
     "metadata": {},
     "output_type": "display_data"
    }
   ],
   "source": [
    "# Only Probabilistic\n",
    "models = list(zip([ensemble_models[x] for x in prob_models.Model],\n",
    "                  prob_models.Model))\n",
    "plt.figure()\n",
    "\n",
    "print('5-fold cross validation:\\n')\n",
    "clfs = []\n",
    "#[ensemble_models[x] for x in prob_models.Model]\n",
    "for clf, label in models:\n",
    "    scores = cross_val_score(clf, X_train, y_train,cv=5, scoring=scoring, verbose=0)\n",
    "    print(\"Train CV Accuracy: %0.2f (+/- %0.2f) [%s]\" % (scores.mean(), scores.std(), label))\n",
    "    md = clf.fit(X_train, y_train)\n",
    "    # Add to Roc Curve\n",
    "    fpr, tpr, _ = roc_curve(y_test, md.predict_proba(X_test)[:,1])\n",
    "    roc_auc = auc(fpr, tpr)\n",
    "\n",
    "    print('ROC AUC: %0.2f' % roc_auc)\n",
    "    plt.plot(fpr, tpr, label='{} ROC curve (area = {:.2})'.format(label, roc_auc))\n",
    "    \n",
    "    clfs.append(md)\n",
    "    print(\"Test Accuracy: %0.2f \\n\" % (metrics.accuracy_score(clf.predict(X_test), y_test)))\n",
    "    \n",
    "    # Model on Full Data\n",
    "    md = clf.fit(X,y)\n",
    "    #submission = md.predict(test_df)\n",
    "    #df = pd.DataFrame({'Comapny.Name':test_df.index, \n",
    "    #                       'Target':submission})\n",
    "    train_hard_pred_matrix = pd.concat((train_hard_pred_matrix, pd.DataFrame({label: md.predict(X)})), axis=1)\n",
    "    #test_hard_pred_matrix = pd.concat((test_hard_pred_matrix, pd.DataFrame({label: submission})), axis=1)\n",
    "\n",
    "    train_soft_pred_matrix = pd.concat((train_soft_pred_matrix, pd.DataFrame({label: md.predict(X)})), axis=1)\n",
    "    #test_soft_pred_matrix = pd.concat((test_soft_pred_matrix, pd.DataFrame({label: md.predict_proba(test_df)[:,1]})), axis=1)\n",
    "    df.to_csv(\"{}.csv\".format(label),header=True,index=False)\n",
    "\n",
    "# Plot\n",
    "plt.plot([0, 1], [0, 1], 'k--')\n",
    "plt.xlim([0.0, 1.0])\n",
    "plt.ylim([0.0, 1.05])\n",
    "plt.xlabel('False Positive Rate')\n",
    "plt.ylabel('True Positive Rate')\n",
    "plt.title('ROC Curve')\n",
    "plt.legend(loc=\"lower right\")\n",
    "plt.show()"
   ]
  },
  {
   "cell_type": "markdown",
   "metadata": {},
   "source": [
    "### Receiver Operating Characteristic curve [ROC]"
   ]
  },
  {
   "cell_type": "code",
   "execution_count": 84,
   "metadata": {},
   "outputs": [
    {
     "name": "stdout",
     "output_type": "stream",
     "text": [
      "\n",
      "2-Voting Models: 5-fold cross validation:\n",
      "\n",
      "Train CV Accuracy: 0.93 (+/- 0.02) [2-VM-Ensemble Soft Voting]\n",
      "ROC AUC: 1.00\n",
      "Train CV Accuracy: 0.92 (+/- 0.02) [2-VM-Ensemble Hard Voting]\n",
      "\n",
      "3-Voting Models: 5-fold cross validation:\n",
      "\n",
      "Train CV Accuracy: 0.92 (+/- 0.03) [3-VM-Ensemble Soft Voting]\n",
      "ROC AUC: 1.00\n",
      "Train CV Accuracy: 0.92 (+/- 0.02) [3-VM-Ensemble Hard Voting]\n",
      "\n",
      "5-Voting Models: 5-fold cross validation:\n",
      "\n",
      "Train CV Accuracy: 0.92 (+/- 0.02) [5-VM-Ensemble Soft Voting]\n",
      "ROC AUC: 1.00\n",
      "Train CV Accuracy: 0.92 (+/- 0.03) [5-VM-Ensemble Hard Voting]\n",
      "\n",
      "7-Voting Models: 5-fold cross validation:\n",
      "\n",
      "Train CV Accuracy: 0.92 (+/- 0.02) [7-VM-Ensemble Soft Voting]\n",
      "ROC AUC: 1.00\n",
      "Train CV Accuracy: 0.92 (+/- 0.03) [7-VM-Ensemble Hard Voting]\n",
      "\n",
      "10-Voting Models: 5-fold cross validation:\n",
      "\n",
      "Train CV Accuracy: 0.92 (+/- 0.02) [10-VM-Ensemble Soft Voting]\n",
      "ROC AUC: 1.00\n",
      "Train CV Accuracy: 0.92 (+/- 0.02) [10-VM-Ensemble Hard Voting]\n"
     ]
    },
    {
     "data": {
      "image/png": "[encoded data removed]",
      "text/plain": [
       "<matplotlib.figure.Figure at 0x7f1f60ae4c18>"
      ]
     },
     "metadata": {},
     "output_type": "display_data"
    }
   ],
   "source": [
    "# Play with Weights\n",
    "plt.figure()\n",
    "voters = {}\n",
    "for x in [2,3,5,7,10]:\n",
    "    ECH = EnsembleVoteClassifier([ensemble_models.get(key) for key in hard_models.Model[:x]], voting='hard')\n",
    "    ECS = EnsembleVoteClassifier([ensemble_models.get(key) for key in prob_models.Model[:x]], voting='soft')\n",
    "    print('\\n{}-Voting Models: 5-fold cross validation:\\n'.format(x))\n",
    "    \n",
    "    for clf, label in zip([ECS, ECH], \n",
    "                          ['{}-VM-Ensemble Soft Voting'.format(x),\n",
    "                           '{}-VM-Ensemble Hard Voting'.format(x)]):\n",
    "        scores = cross_val_score(clf, X_train, y_train, cv=5, scoring='accuracy')\n",
    "        print(\"Train CV Accuracy: %0.2f (+/- %0.2f) [%s]\" % (scores.mean(), scores.std(), label))\n",
    "        md = clf.fit(X_train, y_train)    \n",
    "        clfs.append(md)        \n",
    "        \n",
    "        #Test_Score = metrics.accuracy_score(clf.predict(X_test), y_test)\n",
    "        #print(\"Test Accuracy: %0.2f \" % Test_Score)\n",
    "        \n",
    "        CV_Score = scores.mean()\n",
    "        STDev = scores.std()\n",
    "        \n",
    "        global results\n",
    "        results = results.append({'Model': label,'Para': clf, 'CV Mean': CV_Score,\n",
    "                                  'CV STDEV': STDev}, ignore_index=True)\n",
    "        voters[label] = clf\n",
    "        \n",
    "        # Model on Full Data\n",
    "        md = clf.fit(X,y)\n",
    "        #submission = md.predict(test_df)\n",
    "        #df = pd.DataFrame({'Company.name':test_df.index,'Target':submission})\n",
    "        df.to_csv(\"{}.csv\".format(label),header=True,index=False)\n",
    "        \n",
    "        if clf is ECH:\n",
    "            # Hard Correlation\n",
    "            train_hard_pred_matrix = pd.concat((train_hard_pred_matrix, pd.DataFrame({label: md.predict(X)})), axis=1)\n",
    "            #test_hard_pred_matrix = pd.concat((test_hard_pred_matrix, pd.DataFrame({label: submission})), axis=1)\n",
    "        \n",
    "        elif clf is ECS:\n",
    "            # Add to Roc Curve\n",
    "            fpr, tpr, _ = roc_curve(y_test, md.predict_proba(X_test)[:,1])\n",
    "            roc_auc = auc(fpr, tpr)\n",
    "            print('ROC AUC: %0.2f' % roc_auc)\n",
    "            plt.plot(fpr, tpr, label='{} ROC curve (area = {:.2})'.format(label, roc_auc))\n",
    "            # Soft Correlation\n",
    "            train_soft_pred_matrix = pd.concat((train_soft_pred_matrix, pd.DataFrame({label: md.predict(X)})), axis=1)\n",
    "            #test_soft_pred_matrix = pd.concat((test_soft_pred_matrix, pd.DataFrame({label: md.predict_proba(test_df)[:,1]})), axis=1)\n",
    "        \n",
    "        \n",
    "# Plot\n",
    "plt.plot([0, 1], [0, 1], 'k--')\n",
    "plt.xlim([0.0, 1.0])\n",
    "plt.ylim([0.0, 1.05])\n",
    "plt.xlabel('False Positive Rate')\n",
    "plt.ylabel('True Positive Rate')\n",
    "plt.title('Soft Model ROC Curve')\n",
    "plt.legend(loc=\"lower right\")\n",
    "plt.show()"
   ]
  },
  {
   "cell_type": "markdown",
   "metadata": {},
   "source": [
    "### Sklearn Voter Pipeline"
   ]
  },
  {
   "cell_type": "code",
   "execution_count": 85,
   "metadata": {},
   "outputs": [
    {
     "data": {
      "text/plain": [
       "EnsembleVoteClassifier(clfs=[KNeighborsClassifier(algorithm='auto', leaf_size=30, metric='minkowski',\n",
       "           metric_params=None, n_jobs=1, n_neighbors=5, p=2,\n",
       "           weights='distance'), BaggingClassifier(base_estimator=DecisionTreeClassifier(class_weight=None, criterion='gini', max_depth=None,\n",
       "            max_fea...\n",
       "  max_iter=-1, probability=True, random_state=None, shrinking=True,\n",
       "  tol=0.001, verbose=False))])],\n",
       "            refit=True, verbose=0, voting='hard', weights=None)"
      ]
     },
     "execution_count": 85,
     "metadata": {},
     "output_type": "execute_result"
    }
   ],
   "source": [
    "voters.get('10-VM-Ensemble Hard Voting')"
   ]
  },
  {
   "cell_type": "code",
   "execution_count": 86,
   "metadata": {
    "collapsed": true
   },
   "outputs": [],
   "source": [
    "Xstack = X.copy()\n",
    "ystack = y.copy()\n",
    "X_trainstack = X_train.copy()\n",
    "X_teststack = X_test.copy()\n",
    "y_trainstack = y_train.copy()\n",
    "y_teststack = y_test.copy()"
   ]
  },
  {
   "cell_type": "code",
   "execution_count": 88,
   "metadata": {},
   "outputs": [
    {
     "name": "stdout",
     "output_type": "stream",
     "text": [
      "5-fold cross validation:\n",
      "##### Base Model 0 #####\n",
      "Train CV Accuracy: 0.93 (+/- 0.02)\n",
      "Train Accuracy: 1.00 \n",
      "Test Accuracy: 0.93 \n",
      "\n"
     ]
    },
    {
     "ename": "TypeError",
     "evalue": "estimator should be an estimator implementing 'fit' method, None was passed",
     "output_type": "error",
     "traceback": [
      "\u001b[0;31m---------------------------------------------------------------------------\u001b[0m",
      "\u001b[0;31mTypeError\u001b[0m                                 Traceback (most recent call last)",
      "\u001b[0;32m<ipython-input-88-cd1a6155cc50>\u001b[0m in \u001b[0;36m<module>\u001b[0;34m()\u001b[0m\n\u001b[1;32m     14\u001b[0m \u001b[0mprint\u001b[0m\u001b[0;34m(\u001b[0m\u001b[0;34m'5-fold cross validation:'\u001b[0m\u001b[0;34m)\u001b[0m\u001b[0;34m\u001b[0m\u001b[0m\n\u001b[1;32m     15\u001b[0m \u001b[0;32mfor\u001b[0m \u001b[0mi\u001b[0m\u001b[0;34m,\u001b[0m \u001b[0mclf\u001b[0m \u001b[0;32min\u001b[0m \u001b[0menumerate\u001b[0m\u001b[0;34m(\u001b[0m\u001b[0mclfs\u001b[0m\u001b[0;34m)\u001b[0m\u001b[0;34m:\u001b[0m\u001b[0;34m\u001b[0m\u001b[0m\n\u001b[0;32m---> 16\u001b[0;31m     \u001b[0mscores\u001b[0m \u001b[0;34m=\u001b[0m \u001b[0mcross_validation\u001b[0m\u001b[0;34m.\u001b[0m\u001b[0mcross_val_score\u001b[0m\u001b[0;34m(\u001b[0m\u001b[0mclf\u001b[0m\u001b[0;34m,\u001b[0m \u001b[0mX_trainstack\u001b[0m\u001b[0;34m,\u001b[0m \u001b[0my_trainstack\u001b[0m\u001b[0;34m,\u001b[0m \u001b[0mcv\u001b[0m\u001b[0;34m=\u001b[0m\u001b[0mkfold\u001b[0m\u001b[0;34m,\u001b[0m \u001b[0mscoring\u001b[0m\u001b[0;34m=\u001b[0m\u001b[0;34m'accuracy'\u001b[0m\u001b[0;34m)\u001b[0m\u001b[0;34m\u001b[0m\u001b[0m\n\u001b[0m\u001b[1;32m     17\u001b[0m     \u001b[0mprint\u001b[0m\u001b[0;34m(\u001b[0m\u001b[0;34m\"##### Base Model %0.0f #####\"\u001b[0m \u001b[0;34m%\u001b[0m \u001b[0mi\u001b[0m\u001b[0;34m)\u001b[0m\u001b[0;34m\u001b[0m\u001b[0m\n\u001b[1;32m     18\u001b[0m     \u001b[0mprint\u001b[0m\u001b[0;34m(\u001b[0m\u001b[0;34m\"Train CV Accuracy: %0.2f (+/- %0.2f)\"\u001b[0m \u001b[0;34m%\u001b[0m \u001b[0;34m(\u001b[0m\u001b[0mscores\u001b[0m\u001b[0;34m.\u001b[0m\u001b[0mmean\u001b[0m\u001b[0;34m(\u001b[0m\u001b[0;34m)\u001b[0m\u001b[0;34m,\u001b[0m \u001b[0mscores\u001b[0m\u001b[0;34m.\u001b[0m\u001b[0mstd\u001b[0m\u001b[0;34m(\u001b[0m\u001b[0;34m)\u001b[0m\u001b[0;34m)\u001b[0m\u001b[0;34m)\u001b[0m\u001b[0;34m\u001b[0m\u001b[0m\n",
      "\u001b[0;32m~/anaconda3/lib/python3.6/site-packages/sklearn/cross_validation.py\u001b[0m in \u001b[0;36mcross_val_score\u001b[0;34m(estimator, X, y, scoring, cv, n_jobs, verbose, fit_params, pre_dispatch)\u001b[0m\n\u001b[1;32m   1571\u001b[0m \u001b[0;34m\u001b[0m\u001b[0m\n\u001b[1;32m   1572\u001b[0m     \u001b[0mcv\u001b[0m \u001b[0;34m=\u001b[0m \u001b[0mcheck_cv\u001b[0m\u001b[0;34m(\u001b[0m\u001b[0mcv\u001b[0m\u001b[0;34m,\u001b[0m \u001b[0mX\u001b[0m\u001b[0;34m,\u001b[0m \u001b[0my\u001b[0m\u001b[0;34m,\u001b[0m \u001b[0mclassifier\u001b[0m\u001b[0;34m=\u001b[0m\u001b[0mis_classifier\u001b[0m\u001b[0;34m(\u001b[0m\u001b[0mestimator\u001b[0m\u001b[0;34m)\u001b[0m\u001b[0;34m)\u001b[0m\u001b[0;34m\u001b[0m\u001b[0m\n\u001b[0;32m-> 1573\u001b[0;31m     \u001b[0mscorer\u001b[0m \u001b[0;34m=\u001b[0m \u001b[0mcheck_scoring\u001b[0m\u001b[0;34m(\u001b[0m\u001b[0mestimator\u001b[0m\u001b[0;34m,\u001b[0m \u001b[0mscoring\u001b[0m\u001b[0;34m=\u001b[0m\u001b[0mscoring\u001b[0m\u001b[0;34m)\u001b[0m\u001b[0;34m\u001b[0m\u001b[0m\n\u001b[0m\u001b[1;32m   1574\u001b[0m     \u001b[0;31m# We clone the estimator to make sure that all the folds are\u001b[0m\u001b[0;34m\u001b[0m\u001b[0;34m\u001b[0m\u001b[0m\n\u001b[1;32m   1575\u001b[0m     \u001b[0;31m# independent, and that it is pickle-able.\u001b[0m\u001b[0;34m\u001b[0m\u001b[0;34m\u001b[0m\u001b[0m\n",
      "\u001b[0;32m~/anaconda3/lib/python3.6/site-packages/sklearn/metrics/scorer.py\u001b[0m in \u001b[0;36mcheck_scoring\u001b[0;34m(estimator, scoring, allow_none)\u001b[0m\n\u001b[1;32m    272\u001b[0m     \u001b[0;32mif\u001b[0m \u001b[0;32mnot\u001b[0m \u001b[0mhasattr\u001b[0m\u001b[0;34m(\u001b[0m\u001b[0mestimator\u001b[0m\u001b[0;34m,\u001b[0m \u001b[0;34m'fit'\u001b[0m\u001b[0;34m)\u001b[0m\u001b[0;34m:\u001b[0m\u001b[0;34m\u001b[0m\u001b[0m\n\u001b[1;32m    273\u001b[0m         raise TypeError(\"estimator should be an estimator implementing \"\n\u001b[0;32m--> 274\u001b[0;31m                         \"'fit' method, %r was passed\" % estimator)\n\u001b[0m\u001b[1;32m    275\u001b[0m     \u001b[0;32mif\u001b[0m \u001b[0misinstance\u001b[0m\u001b[0;34m(\u001b[0m\u001b[0mscoring\u001b[0m\u001b[0;34m,\u001b[0m \u001b[0msix\u001b[0m\u001b[0;34m.\u001b[0m\u001b[0mstring_types\u001b[0m\u001b[0;34m)\u001b[0m\u001b[0;34m:\u001b[0m\u001b[0;34m\u001b[0m\u001b[0m\n\u001b[1;32m    276\u001b[0m         \u001b[0;32mreturn\u001b[0m \u001b[0mget_scorer\u001b[0m\u001b[0;34m(\u001b[0m\u001b[0mscoring\u001b[0m\u001b[0;34m)\u001b[0m\u001b[0;34m\u001b[0m\u001b[0m\n",
      "\u001b[0;31mTypeError\u001b[0m: estimator should be an estimator implementing 'fit' method, None was passed"
     ]
    }
   ],
   "source": [
    "from sklearn import cross_validation\n",
    "kfold = cross_validation.StratifiedKFold(y=y_trainstack, n_folds=5, random_state=rstate)\n",
    "num_trees = 10\n",
    "verbose = True # to print the progress\n",
    "\n",
    "clfs = [ensemble_models.get('KNN'),\n",
    "        ensemble_models.get('XGBstandard')]\n",
    "\n",
    "# Creating train and test sets for blending\n",
    "dataset_blend_train = np.zeros((X_trainstack.shape[0], len(clfs)))\n",
    "dataset_blend_test = np.zeros((X_teststack.shape[0], len(clfs)))\n",
    "#dataset_blend_test_df = np.zeros((test_df.shape[0], len(clfs)))\n",
    "\n",
    "print('5-fold cross validation:')\n",
    "for i, clf in enumerate(clfs):   \n",
    "    scores = cross_validation.cross_val_score(clf, X_trainstack, y_trainstack, cv=kfold, scoring='accuracy')\n",
    "    print(\"##### Base Model %0.0f #####\" % i)\n",
    "    print(\"Train CV Accuracy: %0.2f (+/- %0.2f)\" % (scores.mean(), scores.std()))\n",
    "    clf.fit(X_trainstack, y_trainstack)   \n",
    "    print(\"Train Accuracy: %0.2f \" % (metrics.accuracy_score(clf.predict(X_trainstack), y_trainstack)))\n",
    "    dataset_blend_train[:,i] = clf.predict_proba(X_trainstack)[:, 1]\n",
    "    dataset_blend_test[:,i] = clf.predict_proba(X_teststack)[:, 1]\n",
    "    #dataset_blend_test_df[:,i] = clf.predict_proba(test_df)[:, 1]\n",
    "    print(\"Test Accuracy: %0.2f \\n\" % (metrics.accuracy_score(clf.predict(X_teststack), y_teststack)))    \n",
    "\n",
    "print(\"##### Meta Model #####\")\n",
    "clf = LogisticRegression()\n",
    "scores = cross_validation.cross_val_score(clf, dataset_blend_train, y_trainstack, cv=kfold, scoring=scoring)\n",
    "clf.fit(dataset_blend_train, y_trainstack)\n",
    "print(\"Train CV Accuracy: %0.2f (+/- %0.2f)\" % (scores.mean(), scores.std()))\n",
    "print(\"Train Accuracy: %0.2f \" % (metrics.accuracy_score(clf.predict(dataset_blend_train), y_trainstack)))\n",
    "print(\"Test Accuracy: %0.2f \" % (metrics.accuracy_score(clf.predict(dataset_blend_test), y_teststack)))\n",
    "\n",
    "# Correlate Results\n",
    "#test_hard_pred_matrix = pd.concat((test_hard_pred_matrix, pd.DataFrame({label: clf.predict(dataset_blend_test_df)})), axis=1)\n",
    "#train_hard_pred_matrix = pd.concat((train_hard_pred_matrix, pd.DataFrame({label: model.predict(dataset_blend_train)})), axis=1)\n",
    "\n",
    "# Save\n",
    "#pd.DataFrame({'Company.Name':test_df.index, \n",
    "    #'Target':clf.predict(dataset_blend_test_df)}).to_csv(\n",
    "    #\"{}.csv\".format(\"Stacked\"),header=True,index=False)"
   ]
  },
  {
   "cell_type": "code",
   "execution_count": null,
   "metadata": {
    "collapsed": true
   },
   "outputs": [],
   "source": [
    "score = cross_val_score(clf, X, y, cv=cv, scoring=scoring)\n",
    "norm_save(clf, score, \"stacked\")\n",
    "eval_plot(clf)"
   ]
  },
  {
   "cell_type": "markdown",
   "metadata": {},
   "source": [
    "### Table of Results"
   ]
  },
  {
   "cell_type": "code",
   "execution_count": null,
   "metadata": {
    "collapsed": true
   },
   "outputs": [],
   "source": [
    "results.sort_values(by=[\"CV Mean\"], ascending=False, inplace=True)\n",
    "results.to_csv(\"results.csv\", index=False)\n",
    "results"
   ]
  },
  {
   "cell_type": "markdown",
   "metadata": {},
   "source": [
    "# Classification Evaluation"
   ]
  },
  {
   "cell_type": "code",
   "execution_count": null,
   "metadata": {
    "collapsed": true
   },
   "outputs": [],
   "source": [
    "# Reinstate Data, since it was meddled with during Stacked Models\n",
    "X = train_df.drop([\"Target\"] , axis=1)\n",
    "y = train_df[\"Target\"]\n",
    "\n",
    "# Stratified Train/Test Split\n",
    "X_train, X_test, y_train, y_test = train_test_split(X, y, test_size=0.2, stratify=y)\n",
    "X_train.shape, y_train.shape, X_test.shape, y_test.shape\n",
    "\n",
    "evalmodel = EnsembleVoteClassifier([ensemble_models.get(key) for key in prob_models.Model[:7]], voting='soft')\n",
    "evalmodel.fit(X_train, y_train)\n",
    "y_pred = evalmodel.predict(X_test)\n",
    "# Report\n",
    "print(\"\\n Report:\")\n",
    "print(classification_report(y_test, y_pred))\n",
    "confusion_matrix(y_test, y_pred)\n",
    "# Matrix\n",
    "print(\"\\n Matrix:\")\n",
    "skplt.metrics.plot_confusion_matrix(y_pred, y_test, normalize=True)\n",
    "plt.show()"
   ]
  },
  {
   "cell_type": "code",
   "execution_count": null,
   "metadata": {
    "collapsed": true
   },
   "outputs": [],
   "source": [
    "import time\n",
    "end = time.time()\n",
    "print(\"Notebook took %0.2f minutes to Run\"%((end - start)/60))"
   ]
  }
 ],
 "metadata": {
  "kernelspec": {
   "display_name": "Python 3",
   "language": "python",
   "name": "python3"
  },
  "language_info": {
   "codemirror_mode": {
    "name": "ipython",
    "version": 3
   },
   "file_extension": ".py",
   "mimetype": "text/x-python",
   "name": "python",
   "nbconvert_exporter": "python",
   "pygments_lexer": "ipython3",
   "version": "3.6.2"
  }
 },
 "nbformat": 4,
 "nbformat_minor": 2
}
